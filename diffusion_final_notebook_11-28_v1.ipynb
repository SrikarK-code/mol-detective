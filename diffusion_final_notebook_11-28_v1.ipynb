{
 "cells": [
  {
   "cell_type": "markdown",
   "id": "6d1f414e-7dd3-4c36-b890-1316c12b7f25",
   "metadata": {
    "tags": []
   },
   "source": [
    "# input data "
   ]
  },
  {
   "cell_type": "code",
   "execution_count": 1,
   "id": "9e278060-c188-4bb3-994e-26376647abb5",
   "metadata": {},
   "outputs": [
    {
     "name": "stdout",
     "output_type": "stream",
     "text": [
      "/hpc/group/chatterjee/srikar/storage/diffusion-reker\n"
     ]
    }
   ],
   "source": [
    "%cd /hpc/home/vk93/storage/diffusion-reker"
   ]
  },
  {
   "cell_type": "code",
   "execution_count": 2,
   "id": "bbcf9d23-6253-4434-a6fb-609d1e53046b",
   "metadata": {},
   "outputs": [],
   "source": [
    "import pandas as pd\n",
    "data = pd.read_table('train-val-data.tsv')"
   ]
  },
  {
   "cell_type": "code",
   "execution_count": 3,
   "id": "6f7bb20c-b525-4e2e-8659-72689476ba13",
   "metadata": {},
   "outputs": [],
   "source": [
    "data = data[['protein','smiles']]\n",
    "# data = data.sample(1000)\n",
    "data = data.reset_index(drop=True)"
   ]
  },
  {
   "cell_type": "code",
   "execution_count": 196,
   "id": "df9daac9-c5c1-4765-ba02-de5715ae3736",
   "metadata": {},
   "outputs": [],
   "source": [
    "import pickle"
   ]
  },
  {
   "cell_type": "code",
   "execution_count": 5,
   "id": "d2f43ccd-14a2-456b-b498-41d9aef43420",
   "metadata": {},
   "outputs": [],
   "source": [
    "pkl_file_path = 'protein_embedding_dict.pkl'\n",
    "try:\n",
    "    with open(pkl_file_path, 'rb') as f:\n",
    "        protein_embedding_dict = pickle.load(f)\n",
    "except FileNotFoundError:\n",
    "    protein_embedding_dict = \"File not found. Please make sure the file exists at the specified path.\"\n"
   ]
  },
  {
   "cell_type": "code",
   "execution_count": 6,
   "id": "09205b3e-850c-462f-b6f1-c716ec751a3f",
   "metadata": {},
   "outputs": [],
   "source": [
    "protein_keys = list(protein_embedding_dict.keys())\n",
    "subset_data = data[data['protein'].isin(protein_keys)]"
   ]
  },
  {
   "cell_type": "code",
   "execution_count": 7,
   "id": "4ac18650-1eab-4091-852a-7d853d626d5e",
   "metadata": {},
   "outputs": [
    {
     "data": {
      "text/plain": [
       "359"
      ]
     },
     "execution_count": 7,
     "metadata": {},
     "output_type": "execute_result"
    }
   ],
   "source": [
    "import numpy as np\n",
    "len(np.unique(subset_data['protein']))"
   ]
  },
  {
   "cell_type": "code",
   "execution_count": 8,
   "id": "f6f58bc0-a206-469c-921a-8e568ecd61d4",
   "metadata": {},
   "outputs": [
    {
     "data": {
      "text/plain": [
       "108722"
      ]
     },
     "execution_count": 8,
     "metadata": {},
     "output_type": "execute_result"
    }
   ],
   "source": [
    "len(np.unique(subset_data['smiles']))"
   ]
  },
  {
   "cell_type": "code",
   "execution_count": 9,
   "id": "e40393e0-3abf-4bde-9d5f-017cc716d1cd",
   "metadata": {},
   "outputs": [],
   "source": [
    "data = subset_data.copy()"
   ]
  },
  {
   "cell_type": "code",
   "execution_count": 10,
   "id": "0b79a003-7ecb-469a-8c15-54d69cdd9671",
   "metadata": {},
   "outputs": [],
   "source": [
    "data = data.sample(n=5000)"
   ]
  },
  {
   "cell_type": "code",
   "execution_count": 11,
   "id": "e7fcf560-19c5-4017-9e7d-a32816a683ac",
   "metadata": {},
   "outputs": [],
   "source": [
    "data = data.reset_index(drop=True)"
   ]
  },
  {
   "cell_type": "code",
   "execution_count": 12,
   "id": "6d5d9f10-9f3c-4b6c-a990-d715009a868f",
   "metadata": {},
   "outputs": [],
   "source": [
    "data['esm_emb'] = data['protein'].map(protein_embedding_dict)"
   ]
  },
  {
   "cell_type": "code",
   "execution_count": 13,
   "id": "1a30b718-f47f-498f-8f78-14b12b254114",
   "metadata": {},
   "outputs": [],
   "source": [
    "import torch"
   ]
  },
  {
   "cell_type": "code",
   "execution_count": 14,
   "id": "5862080a-9013-468b-8f17-58b974f6d129",
   "metadata": {},
   "outputs": [],
   "source": [
    "def process_single_esm_embedding(embedding):\n",
    "    token_representations = torch.tensor(embedding)\n",
    "    tokens_len = token_representations.size(0)\n",
    "    sequence_representation = token_representations[1:tokens_len - 1].mean(0)\n",
    "    return sequence_representation"
   ]
  },
  {
   "cell_type": "code",
   "execution_count": 15,
   "id": "7a763c9b-745e-4d1c-af73-d828ff208fc2",
   "metadata": {},
   "outputs": [
    {
     "name": "stderr",
     "output_type": "stream",
     "text": [
      "<ipython-input-14-8d352bb74773>:2: UserWarning: To copy construct from a tensor, it is recommended to use sourceTensor.clone().detach() or sourceTensor.clone().detach().requires_grad_(True), rather than torch.tensor(sourceTensor).\n",
      "  token_representations = torch.tensor(embedding)\n"
     ]
    }
   ],
   "source": [
    "data['processed_esm_emb'] = data['esm_emb'].apply(process_single_esm_embedding)"
   ]
  },
  {
   "cell_type": "code",
   "execution_count": 16,
   "id": "611ef441-8b09-44e8-bb20-b82783222911",
   "metadata": {},
   "outputs": [],
   "source": [
    "data = data.drop('esm_emb', axis=1)"
   ]
  },
  {
   "cell_type": "markdown",
   "id": "7fd4b166-cc25-4fb7-b603-15b3078d9e3c",
   "metadata": {},
   "source": [
    "# unimol"
   ]
  },
  {
   "cell_type": "markdown",
   "id": "e8e67b6f-7b11-4184-9d68-04d80e2f6b42",
   "metadata": {},
   "source": [
    "## install"
   ]
  },
  {
   "cell_type": "code",
   "execution_count": null,
   "id": "99f450e0-9700-47af-9ef0-944b5746e9ca",
   "metadata": {},
   "outputs": [],
   "source": [
    "!python3 -m venv unimol-dcc-srikar"
   ]
  },
  {
   "cell_type": "code",
   "execution_count": null,
   "id": "524f6f12-877e-461f-9001-55245aae17c5",
   "metadata": {},
   "outputs": [],
   "source": [
    "!source unimol-dcc-srikar/bin/activate"
   ]
  },
  {
   "cell_type": "code",
   "execution_count": null,
   "id": "c983a519-5835-40dc-8d77-c3855484265f",
   "metadata": {},
   "outputs": [],
   "source": [
    "## clone repo\n",
    "!git clone https://github.com/dptech-corp/Uni-Mol.git\n",
    "%cd Uni-Mol/unimol_tools/unimol_tools"
   ]
  },
  {
   "cell_type": "code",
   "execution_count": null,
   "id": "255ce41c-9c7d-45d1-9a29-b3f742ea94b3",
   "metadata": {},
   "outputs": [],
   "source": [
    "## download pretrained weights\n",
    "!wget https://github.com/dptech-corp/Uni-Mol/releases/download/v0.1/mol_pre_all_h_220816.pt\n",
    "!wget https://github.com/dptech-corp/Uni-Mol/releases/download/v0.1/mol_pre_no_h_220816.pt\n",
    "!wget https://github.com/dptech-corp/Uni-Mol/releases/download/v0.1/pocket_pre_220816.pt\n",
    "!wget https://github.com/dptech-corp/Uni-Mol/releases/download/v0.1/mof_pre_no_h_CORE_MAP_20230505.pt\n",
    "!wget https://github.com/dptech-corp/Uni-Mol/releases/download/v0.1/mp_all_h_230313.pt\n",
    "!wget https://github.com/dptech-corp/Uni-Mol/releases/download/v0.1/oled_pre_no_h_230101.pt"
   ]
  },
  {
   "cell_type": "code",
   "execution_count": null,
   "id": "f1f12997-002d-4e64-8e6a-502a977ab3cb",
   "metadata": {},
   "outputs": [],
   "source": [
    "!mkdir -p weights\n",
    "!mv *.pt weights/\n"
   ]
  },
  {
   "cell_type": "code",
   "execution_count": null,
   "id": "70a67bf4-39bd-4470-9ec2-83588d90c74d",
   "metadata": {},
   "outputs": [],
   "source": [
    "## install\n",
    "%cd .."
   ]
  },
  {
   "cell_type": "code",
   "execution_count": null,
   "id": "e0ce7c13-03a0-4f2f-80f9-2ee09800c595",
   "metadata": {},
   "outputs": [],
   "source": [
    "!pip install addict -i https://pypi.tuna.tsinghua.edu.cn/simple/ --trusted-host pypi.tuna.tsinghua.edu.cn"
   ]
  },
  {
   "cell_type": "code",
   "execution_count": null,
   "id": "e5ed832b-bc17-4cf4-bc83-490376e88353",
   "metadata": {},
   "outputs": [],
   "source": [
    "!pip install tqdm -i https://pypi.tuna.tsinghua.edu.cn/simple/ --trusted-host pypi.tuna.tsinghua.edu.cn\n",
    "!pip install yacs -i https://pypi.tuna.tsinghua.edu.cn/simple/ --trusted-host pypi.tuna.tsinghua.edu.cn\n",
    "!pip install transformers -i https://pypi.tuna.tsinghua.edu.cn/simple/ --trusted-host pypi.tuna.tsinghua.edu.cn"
   ]
  },
  {
   "cell_type": "code",
   "execution_count": null,
   "id": "d69f0d87-b108-4661-872a-7a0e7e8396fd",
   "metadata": {},
   "outputs": [],
   "source": [
    "!pip install pymatgen -i https://pypi.tuna.tsinghua.edu.cn/simple/ --trusted-host pypi.tuna.tsinghua.edu.cn"
   ]
  },
  {
   "cell_type": "code",
   "execution_count": null,
   "id": "300bfd35-1266-4600-aba6-e4a890aeaba5",
   "metadata": {},
   "outputs": [],
   "source": [
    "!python setup.py install --user"
   ]
  },
  {
   "cell_type": "code",
   "execution_count": null,
   "id": "d2daf546-9977-43d6-bd55-f3e27aaa69a3",
   "metadata": {},
   "outputs": [],
   "source": [
    "!pip install rdkit"
   ]
  },
  {
   "cell_type": "code",
   "execution_count": null,
   "id": "06f351cf-0437-421d-91e0-5e47cad9fe46",
   "metadata": {},
   "outputs": [],
   "source": [
    "!ls"
   ]
  },
  {
   "cell_type": "code",
   "execution_count": null,
   "id": "09adb85c-4142-459c-82aa-0cc04f08254a",
   "metadata": {},
   "outputs": [],
   "source": [
    "!wget https://github.com/dptech-corp/Uni-Core/releases/download/0.0.3/unicore-0.0.1+cu117torch2.0.0-cp38-cp38-linux_x86_64.whl"
   ]
  },
  {
   "cell_type": "code",
   "execution_count": null,
   "id": "eed77c1c-d0a0-4ebb-bf19-1abaff6cab2c",
   "metadata": {},
   "outputs": [],
   "source": [
    "!pip install unicore-0.0.1+cu117torch2.0.0-cp38-cp38-linux_x86_64.whl"
   ]
  },
  {
   "cell_type": "markdown",
   "id": "ce83fbcd-b9ec-445f-8b4e-af895b25e181",
   "metadata": {},
   "source": [
    "## import unimol-repr"
   ]
  },
  {
   "cell_type": "code",
   "execution_count": 17,
   "id": "1e28f974-cc0b-4700-a924-546458d73e8c",
   "metadata": {},
   "outputs": [],
   "source": [
    "from unimol_tools import UniMolRepr"
   ]
  },
  {
   "cell_type": "code",
   "execution_count": 18,
   "id": "d53cce08-67b4-4292-b800-8375d1001355",
   "metadata": {},
   "outputs": [
    {
     "name": "stdout",
     "output_type": "stream",
     "text": [
      "/hpc/group/chatterjee/srikar/storage/diffusion-reker\n"
     ]
    }
   ],
   "source": [
    "%cd /hpc/home/vk93/storage/diffusion-reker"
   ]
  },
  {
   "cell_type": "code",
   "execution_count": 19,
   "id": "9247515c-558e-40ac-98a3-1ae6e5de39da",
   "metadata": {},
   "outputs": [
    {
     "data": {
      "text/html": [
       "<div>\n",
       "<style scoped>\n",
       "    .dataframe tbody tr th:only-of-type {\n",
       "        vertical-align: middle;\n",
       "    }\n",
       "\n",
       "    .dataframe tbody tr th {\n",
       "        vertical-align: top;\n",
       "    }\n",
       "\n",
       "    .dataframe thead th {\n",
       "        text-align: right;\n",
       "    }\n",
       "</style>\n",
       "<table border=\"1\" class=\"dataframe\">\n",
       "  <thead>\n",
       "    <tr style=\"text-align: right;\">\n",
       "      <th></th>\n",
       "      <th>protein</th>\n",
       "      <th>smiles</th>\n",
       "      <th>processed_esm_emb</th>\n",
       "    </tr>\n",
       "  </thead>\n",
       "  <tbody>\n",
       "    <tr>\n",
       "      <th>0</th>\n",
       "      <td>MVMQFQGLENPIQISPHCSCTPSGFFMEMMSMKPAKGVLTEQVAGP...</td>\n",
       "      <td>Clc1cccc(Cl)c1-c1noc(C2CC2)c1CO[C@@H]1C[C@@H]2...</td>\n",
       "      <td>[tensor(0.0067), tensor(-0.0391), tensor(0.050...</td>\n",
       "    </tr>\n",
       "    <tr>\n",
       "      <th>1</th>\n",
       "      <td>MWNATPSEEPGFNLTLADLDWDASPGNDSLGDELLQLFPAPLLAGV...</td>\n",
       "      <td>COc1cccc(c1)-c1ccc(cc1)C(=O)N1CCN([C@@H](C)C1)...</td>\n",
       "      <td>[tensor(-0.0685), tensor(-0.0077), tensor(-0.0...</td>\n",
       "    </tr>\n",
       "    <tr>\n",
       "      <th>2</th>\n",
       "      <td>MDGWRRMPRWGLLLLLWGSCTFGLPTDTTTFKRIFLKRMPSIRESL...</td>\n",
       "      <td>CC(C)CNC(=O)C(=C)C[C@H](O)[C@H](CC1CCCCC1)NC(=...</td>\n",
       "      <td>[tensor(0.0923), tensor(-0.0898), tensor(0.004...</td>\n",
       "    </tr>\n",
       "    <tr>\n",
       "      <th>3</th>\n",
       "      <td>MCNTNMSVPTDGAVTTSQIPASEQETLVRPKPLLLKLLKSVGAQKD...</td>\n",
       "      <td>CC(C)(C)S(=O)(=O)C[C@H](C1CC1)N1[C@@H]([C@H](C...</td>\n",
       "      <td>[tensor(0.0340), tensor(-0.0593), tensor(-0.00...</td>\n",
       "    </tr>\n",
       "    <tr>\n",
       "      <th>4</th>\n",
       "      <td>MAKQYDSVECPFCDEVSKYEKLAKIGQGTFGEVFKARHRKTGQKVA...</td>\n",
       "      <td>COc1ccc(F)cc1-c1ccnc2[nH]c(cc12)C1CCN(CCN2CCOC...</td>\n",
       "      <td>[tensor(0.0177), tensor(0.0355), tensor(0.0020...</td>\n",
       "    </tr>\n",
       "    <tr>\n",
       "      <th>...</th>\n",
       "      <td>...</td>\n",
       "      <td>...</td>\n",
       "      <td>...</td>\n",
       "    </tr>\n",
       "    <tr>\n",
       "      <th>4995</th>\n",
       "      <td>MSANATLKPLCPILEQMSRLQSHSNTSIRYIDHAAVLLHGLASLLG...</td>\n",
       "      <td>OC(=O)Cc1sc(nc1-c1cccnc1)C(c1ccc(F)cc1)c1ccc(F...</td>\n",
       "      <td>[tensor(-0.0185), tensor(-0.0335), tensor(0.00...</td>\n",
       "    </tr>\n",
       "    <tr>\n",
       "      <th>4996</th>\n",
       "      <td>MAAVILESIFLKRSQQKKKTSPLNFKKRLFLLTVHKLSYYEYDFER...</td>\n",
       "      <td>C[C@@H]1[C@@H](CCCN1c1cnc(C(N)=O)c(Nc2ccc(cc2)...</td>\n",
       "      <td>[tensor(0.0227), tensor(-0.0226), tensor(-0.06...</td>\n",
       "    </tr>\n",
       "    <tr>\n",
       "      <th>4997</th>\n",
       "      <td>MGAPACALALCVAVAIVAGASSESLGTEQRVVGRAAEVPGPEPGQQ...</td>\n",
       "      <td>COc1cc(C)cc2cc(sc12)-c1c(CN2CCCC(C2)C(N)=O)cn2...</td>\n",
       "      <td>[tensor(-0.0126), tensor(0.0058), tensor(-0.01...</td>\n",
       "    </tr>\n",
       "    <tr>\n",
       "      <th>4998</th>\n",
       "      <td>MDPLNLSWYDDDLERQNWSRPFNGSDGKADRPHYNYYATLLTLLIA...</td>\n",
       "      <td>CN(C)C(=O)N[C@H]1CC[C@H](CCN2CCc3cccc(Cl)c3C2)CC1</td>\n",
       "      <td>[tensor(-0.0148), tensor(-0.0211), tensor(-0.0...</td>\n",
       "    </tr>\n",
       "    <tr>\n",
       "      <th>4999</th>\n",
       "      <td>MIFLYQVVHFILFTSVSGECVTQLLKDTCFEGGDITTVFTPSAKYC...</td>\n",
       "      <td>CNC(=O)c1ccc(NC(=O)C(Cc2ccn(C)n2)n2cc(C)c(cc2=...</td>\n",
       "      <td>[tensor(-0.0185), tensor(-0.0302), tensor(0.00...</td>\n",
       "    </tr>\n",
       "  </tbody>\n",
       "</table>\n",
       "<p>5000 rows × 3 columns</p>\n",
       "</div>"
      ],
      "text/plain": [
       "                                                protein  \\\n",
       "0     MVMQFQGLENPIQISPHCSCTPSGFFMEMMSMKPAKGVLTEQVAGP...   \n",
       "1     MWNATPSEEPGFNLTLADLDWDASPGNDSLGDELLQLFPAPLLAGV...   \n",
       "2     MDGWRRMPRWGLLLLLWGSCTFGLPTDTTTFKRIFLKRMPSIRESL...   \n",
       "3     MCNTNMSVPTDGAVTTSQIPASEQETLVRPKPLLLKLLKSVGAQKD...   \n",
       "4     MAKQYDSVECPFCDEVSKYEKLAKIGQGTFGEVFKARHRKTGQKVA...   \n",
       "...                                                 ...   \n",
       "4995  MSANATLKPLCPILEQMSRLQSHSNTSIRYIDHAAVLLHGLASLLG...   \n",
       "4996  MAAVILESIFLKRSQQKKKTSPLNFKKRLFLLTVHKLSYYEYDFER...   \n",
       "4997  MGAPACALALCVAVAIVAGASSESLGTEQRVVGRAAEVPGPEPGQQ...   \n",
       "4998  MDPLNLSWYDDDLERQNWSRPFNGSDGKADRPHYNYYATLLTLLIA...   \n",
       "4999  MIFLYQVVHFILFTSVSGECVTQLLKDTCFEGGDITTVFTPSAKYC...   \n",
       "\n",
       "                                                 smiles  \\\n",
       "0     Clc1cccc(Cl)c1-c1noc(C2CC2)c1CO[C@@H]1C[C@@H]2...   \n",
       "1     COc1cccc(c1)-c1ccc(cc1)C(=O)N1CCN([C@@H](C)C1)...   \n",
       "2     CC(C)CNC(=O)C(=C)C[C@H](O)[C@H](CC1CCCCC1)NC(=...   \n",
       "3     CC(C)(C)S(=O)(=O)C[C@H](C1CC1)N1[C@@H]([C@H](C...   \n",
       "4     COc1ccc(F)cc1-c1ccnc2[nH]c(cc12)C1CCN(CCN2CCOC...   \n",
       "...                                                 ...   \n",
       "4995  OC(=O)Cc1sc(nc1-c1cccnc1)C(c1ccc(F)cc1)c1ccc(F...   \n",
       "4996  C[C@@H]1[C@@H](CCCN1c1cnc(C(N)=O)c(Nc2ccc(cc2)...   \n",
       "4997  COc1cc(C)cc2cc(sc12)-c1c(CN2CCCC(C2)C(N)=O)cn2...   \n",
       "4998  CN(C)C(=O)N[C@H]1CC[C@H](CCN2CCc3cccc(Cl)c3C2)CC1   \n",
       "4999  CNC(=O)c1ccc(NC(=O)C(Cc2ccn(C)n2)n2cc(C)c(cc2=...   \n",
       "\n",
       "                                      processed_esm_emb  \n",
       "0     [tensor(0.0067), tensor(-0.0391), tensor(0.050...  \n",
       "1     [tensor(-0.0685), tensor(-0.0077), tensor(-0.0...  \n",
       "2     [tensor(0.0923), tensor(-0.0898), tensor(0.004...  \n",
       "3     [tensor(0.0340), tensor(-0.0593), tensor(-0.00...  \n",
       "4     [tensor(0.0177), tensor(0.0355), tensor(0.0020...  \n",
       "...                                                 ...  \n",
       "4995  [tensor(-0.0185), tensor(-0.0335), tensor(0.00...  \n",
       "4996  [tensor(0.0227), tensor(-0.0226), tensor(-0.06...  \n",
       "4997  [tensor(-0.0126), tensor(0.0058), tensor(-0.01...  \n",
       "4998  [tensor(-0.0148), tensor(-0.0211), tensor(-0.0...  \n",
       "4999  [tensor(-0.0185), tensor(-0.0302), tensor(0.00...  \n",
       "\n",
       "[5000 rows x 3 columns]"
      ]
     },
     "execution_count": 19,
     "metadata": {},
     "output_type": "execute_result"
    }
   ],
   "source": [
    "data"
   ]
  },
  {
   "cell_type": "code",
   "execution_count": 20,
   "id": "3448f9ee-8892-4827-8048-0ba9199050ec",
   "metadata": {},
   "outputs": [],
   "source": [
    "import numpy as np"
   ]
  },
  {
   "cell_type": "code",
   "execution_count": 21,
   "id": "b3879c31-de7d-486d-b25a-6339e92d7522",
   "metadata": {},
   "outputs": [],
   "source": [
    "smiles_list = data['smiles'].to_list()"
   ]
  },
  {
   "cell_type": "code",
   "execution_count": 22,
   "id": "88c75f34-731a-407c-ac94-d0fa91ee0b94",
   "metadata": {},
   "outputs": [
    {
     "data": {
      "text/plain": [
       "5000"
      ]
     },
     "execution_count": 22,
     "metadata": {},
     "output_type": "execute_result"
    }
   ],
   "source": [
    "len(smiles_list)"
   ]
  },
  {
   "cell_type": "code",
   "execution_count": 23,
   "id": "9943adec-9c9c-4d94-bf3d-f2136585750a",
   "metadata": {},
   "outputs": [
    {
     "name": "stderr",
     "output_type": "stream",
     "text": [
      "2023-11-27 14:24:56 | unimol_tools/models/unimol.py | 116 | INFO | Uni-Mol(QSAR) | Loading pretrained weights from /hpc/home/vk93/.local/lib/python3.8/site-packages/unimol_tools-1.0.0-py3.8.egg/unimol_tools/weights/mol_pre_all_h_220816.pt\n",
      "2023-11-27 14:25:02 | unimol_tools/data/conformer.py | 62 | INFO | Uni-Mol(QSAR) | Start generating conformers...\n",
      "5000it [04:02, 20.63it/s]\n",
      "2023-11-27 14:29:05 | unimol_tools/data/conformer.py | 66 | INFO | Uni-Mol(QSAR) | Failed to generate conformers for 0.00% of molecules.\n",
      "2023-11-27 14:29:05 | unimol_tools/data/conformer.py | 68 | INFO | Uni-Mol(QSAR) | Failed to generate 3d conformers for 0.12% of molecules.\n",
      "100%|██████████| 157/157 [01:30<00:00,  1.74it/s]\n"
     ]
    }
   ],
   "source": [
    "# y = pd.read_csv('mol_train.csv')['TARGET'].to_list()\n",
    "clf = UniMolRepr(data_type='molecule', remove_hs=False)\n",
    "repr_dict = clf.get_repr(smiles_list)"
   ]
  },
  {
   "cell_type": "code",
   "execution_count": 24,
   "id": "a1bc1af1-7afc-4109-bb46-5c8b5b4e3a6a",
   "metadata": {},
   "outputs": [],
   "source": [
    "unimol_repr_list = np.array(repr_dict['cls_repr'])\n",
    "# unimol_repr_list = np.array(repr_dict['atomic_reprs'])"
   ]
  },
  {
   "cell_type": "markdown",
   "id": "0f93336d-7633-4d76-ad41-6f29b5f79be5",
   "metadata": {},
   "source": [
    "## get mol repr"
   ]
  },
  {
   "cell_type": "code",
   "execution_count": 25,
   "id": "46243b78-a506-4fe3-8e47-622a4f57dfc1",
   "metadata": {},
   "outputs": [],
   "source": [
    "np.save('mol_rep.npy', unimol_repr_list)"
   ]
  },
  {
   "cell_type": "code",
   "execution_count": 26,
   "id": "fc9e6d3f-fa27-47f7-b7a3-0f84ef157403",
   "metadata": {},
   "outputs": [
    {
     "data": {
      "text/plain": [
       "dict_keys(['cls_repr', 'atomic_coords', 'atomic_reprs', 'atomic_symbol'])"
      ]
     },
     "execution_count": 26,
     "metadata": {},
     "output_type": "execute_result"
    }
   ],
   "source": [
    "repr_dict.keys()"
   ]
  },
  {
   "cell_type": "code",
   "execution_count": 27,
   "id": "374706ee-e111-4a16-ba06-238483eb4178",
   "metadata": {},
   "outputs": [
    {
     "data": {
      "text/plain": [
       "5000"
      ]
     },
     "execution_count": 27,
     "metadata": {},
     "output_type": "execute_result"
    }
   ],
   "source": [
    "len(repr_dict['cls_repr'])"
   ]
  },
  {
   "cell_type": "code",
   "execution_count": 28,
   "id": "7f6065b6-4a7a-4f95-a406-4557f4473c8f",
   "metadata": {},
   "outputs": [],
   "source": [
    "smiles_embedding_dict = {smile: embedding for smile, embedding in zip(smiles_list, unimol_repr_list)}"
   ]
  },
  {
   "cell_type": "code",
   "execution_count": 29,
   "id": "cf372002-4262-49c9-80a3-647cae6b4e42",
   "metadata": {},
   "outputs": [],
   "source": [
    "pd.DataFrame(unimol_repr_list, index=smiles_list).to_csv('mol_rep.csv', header=False)\n",
    "import pickle\n",
    "with open('smiles_embedding_dict.pkl', 'wb') as f:\n",
    "    pickle.dump(smiles_embedding_dict, f)"
   ]
  },
  {
   "cell_type": "code",
   "execution_count": 30,
   "id": "c9233be2-c529-41a9-84a7-1b2a2853a474",
   "metadata": {},
   "outputs": [
    {
     "data": {
      "text/plain": [
       "4800"
      ]
     },
     "execution_count": 30,
     "metadata": {},
     "output_type": "execute_result"
    }
   ],
   "source": [
    "len(smiles_embedding_dict)"
   ]
  },
  {
   "cell_type": "code",
   "execution_count": 31,
   "id": "2bc292c7-d9e5-4b6a-91e8-cc74e4e75871",
   "metadata": {},
   "outputs": [],
   "source": [
    "data['processed_unimol'] = data['smiles'].map(smiles_embedding_dict)"
   ]
  },
  {
   "cell_type": "code",
   "execution_count": 32,
   "id": "11dbace7-048a-4186-be24-39383a283c7a",
   "metadata": {},
   "outputs": [],
   "source": [
    "data['processed_unimol_emb'] = data['processed_unimol'].apply(lambda x: torch.tensor(x))"
   ]
  },
  {
   "cell_type": "code",
   "execution_count": 33,
   "id": "c4eaea5e-2755-457a-ac52-b5f74a848e83",
   "metadata": {},
   "outputs": [],
   "source": [
    "data = data.drop('processed_unimol', axis=1)"
   ]
  },
  {
   "cell_type": "code",
   "execution_count": 34,
   "id": "f8f3433b-415f-474d-b26e-5f6313e82f4f",
   "metadata": {},
   "outputs": [],
   "source": [
    "data.to_csv('data_5000.csv',index=False)"
   ]
  },
  {
   "cell_type": "markdown",
   "id": "ad9b41d1-e465-4fda-8326-3e99a47f99f4",
   "metadata": {},
   "source": [
    "# esm-2"
   ]
  },
  {
   "cell_type": "markdown",
   "id": "9481f2d6-ba0b-4ec3-852d-e323dcaf90fd",
   "metadata": {},
   "source": [
    "## install/library load"
   ]
  },
  {
   "cell_type": "code",
   "execution_count": null,
   "id": "8db29071-d4b7-41ca-8c3e-c9cdc0cf1d0f",
   "metadata": {},
   "outputs": [],
   "source": [
    "import pandas as pd\n",
    "import torch\n",
    "from torch.utils.data import DataLoader, Dataset\n",
    "import torch.optim as optim"
   ]
  },
  {
   "cell_type": "code",
   "execution_count": null,
   "id": "e6c9f125-ef6f-48d8-9c7f-15c845e907f2",
   "metadata": {},
   "outputs": [],
   "source": [
    "# data.to_csv('data_1000.csv',index=False)"
   ]
  },
  {
   "cell_type": "code",
   "execution_count": null,
   "id": "bc395f5e-b224-4c55-abe3-397c40119817",
   "metadata": {
    "id": "btK-rT8ISvko"
   },
   "outputs": [],
   "source": [
    "import pandas as pd\n",
    "import torch\n",
    "from torch.utils.data import DataLoader, Dataset\n",
    "import torch.optim as optim"
   ]
  },
  {
   "cell_type": "code",
   "execution_count": null,
   "id": "789b637a-d559-4675-885f-12bd351585fe",
   "metadata": {
    "colab": {
     "base_uri": "https://localhost:8080/"
    },
    "id": "B7mX6QNLS4Y6",
    "outputId": "273ec4e8-f3e3-460d-db18-5c31dc658fa8"
   },
   "outputs": [],
   "source": [
    "!pip install fair-esm\n",
    "##setting up ESM\n",
    "import torch\n",
    "import esm\n",
    "esm_model, alphabet = esm.pretrained.esm2_t33_650M_UR50D()\n",
    "batch_converter = alphabet.get_batch_converter()\n",
    "esm_model.eval()  # disables dropout for deterministic results\n",
    "esm_model.cuda() #push model to gpu"
   ]
  },
  {
   "cell_type": "code",
   "execution_count": null,
   "id": "91fe81d7-b1ba-4acd-b4ad-26a129e860cc",
   "metadata": {
    "id": "CtVONw98T5ZL"
   },
   "outputs": [],
   "source": [
    "import tqdm as tqdm"
   ]
  },
  {
   "cell_type": "code",
   "execution_count": null,
   "id": "9e55c2a6-57cf-4783-8460-7d21d62b3313",
   "metadata": {
    "id": "TgDt90cS6evv"
   },
   "outputs": [],
   "source": [
    "import pickle"
   ]
  },
  {
   "cell_type": "markdown",
   "id": "710fea32-2c92-415a-a026-fea97f016d77",
   "metadata": {},
   "source": [
    "## get prot embedding"
   ]
  },
  {
   "cell_type": "code",
   "execution_count": null,
   "id": "3df135ac-5176-457c-a0de-a046e5d282ac",
   "metadata": {
    "colab": {
     "base_uri": "https://localhost:8080/"
    },
    "id": "0fOS9LzqSp8-",
    "outputId": "42b9bca7-758b-45b7-f0a8-f5d93df770e4"
   },
   "outputs": [],
   "source": [
    "from tqdm import tqdm\n",
    "\n",
    "# Initialize the dictionaries to store embeddings\n",
    "prot_dict = {}\n",
    "\n",
    "# Loop over each sequence in the 'sequence' column of the esm_genes DataFrame\n",
    "for i in tqdm(range(len(data['protein']))):\n",
    "    prot_seq = data['protein'][i]\n",
    "\n",
    "    # Prepare input for the ESM model\n",
    "    batch_labels, batch_strs, batch_tokens = batch_converter([(\"prot_seq\", prot_seq)])\n",
    "\n",
    "    # Move tokens to GPU if available\n",
    "    batch_tokens = batch_tokens.cuda() if torch.cuda.is_available() else batch_tokens\n",
    "\n",
    "    # Compute the length of each sequence (excluding padding tokens)\n",
    "    batch_lens = (batch_tokens != alphabet.padding_idx).sum(1)\n",
    "\n",
    "    # Generate embeddings for the sequences\n",
    "    with torch.no_grad():\n",
    "        results = esm_model(batch_tokens, repr_layers=[33], return_contacts=False)\n",
    "\n",
    "    # Remove tokens from GPU if they were placed there\n",
    "    token_representations = results[\"representations\"][33].cpu() if torch.cuda.is_available() else results[\"representations\"][33]\n",
    "\n",
    "    del batch_tokens\n",
    "\n",
    "    # Extract the token embeddings for each sequence (excluding start and end tokens)\n",
    "    sequence_representations = []\n",
    "    for j, tokens_len in enumerate(batch_lens):\n",
    "        sequence_representations.append(token_representations[j, 1 : tokens_len - 1])\n",
    "\n",
    "    # Store the sequence embeddings in the dictionary with gene_seq as the key\n",
    "    prot_dict[prot_seq] = sequence_representations[0]\n"
   ]
  },
  {
   "cell_type": "code",
   "execution_count": null,
   "id": "b4d8978c-6f9a-490a-acdb-29e7ec3e3272",
   "metadata": {
    "id": "bKWm8Way6Vgo"
   },
   "outputs": [],
   "source": [
    "with open('protein_embedding_dict.pkl', 'wb') as f:\n",
    "    pickle.dump(prot_dict, f)"
   ]
  },
  {
   "cell_type": "code",
   "execution_count": null,
   "id": "017b73ae-dbd2-43be-b9b4-6ea1c26634db",
   "metadata": {
    "colab": {
     "base_uri": "https://localhost:8080/"
    },
    "id": "F0hdFyLvzaqN",
    "outputId": "667ad299-9249-465c-84d0-fa39c9a61369"
   },
   "outputs": [],
   "source": [
    "prot_dict['MEEGGDFDNYYGADNQSECEYTDWKSSGALIPAIYMLVFLLGTTGNGLVLWTVFRSSREKRRSADIFIASLAVADLTFVVTLPLWATYTYRDYDWPFGTFFCKLSSYLIFVNMYASVFCLTGLSFDRYLAIVRPVANARLRLRVSGAVATAVLWVLAALLAMPVMVLRTTGDLENTTKVQCYMDYSMVATVSSEWAWEVGLGVSSTTVGFVVPFTIMLTCYFFIAQTIAGHFRKERIEGLRKRRRLLSIIVVLVVTFALCWMPYHLVKTLYMLGSLLHWPCDFDLFLMNIFPYCTCISYVNSCLNPFLYAFFDPRFRQACTSMLCCGQSRCAGTSHSSSGEKSASYSSGHSQGPGPNMGKGGEQMHEKSIPYSQETLVVD'].shape"
   ]
  },
  {
   "cell_type": "markdown",
   "id": "5493e75a-aa0b-4cb8-9a5a-4079cf98cb53",
   "metadata": {},
   "source": [
    "# dataloader"
   ]
  },
  {
   "cell_type": "code",
   "execution_count": null,
   "id": "22b0b4cf-57f8-4ced-a0c9-6b72016d0796",
   "metadata": {},
   "outputs": [],
   "source": [
    "import pickle"
   ]
  },
  {
   "cell_type": "code",
   "execution_count": null,
   "id": "69ffbc79-607e-46f9-b041-0aa99d3ffe1a",
   "metadata": {},
   "outputs": [],
   "source": [
    "pkl_file_path = 'protein_embedding_dict.pkl'\n",
    "try:\n",
    "    with open(pkl_file_path, 'rb') as f:\n",
    "        protein_embedding_dict = pickle.load(f)\n",
    "except FileNotFoundError:\n",
    "    protein_embedding_dict = \"File not found. Please make sure the file exists at the specified path.\"\n"
   ]
  },
  {
   "cell_type": "code",
   "execution_count": null,
   "id": "07a8d34c-3927-4cc7-9124-5dc5584cc4d0",
   "metadata": {},
   "outputs": [],
   "source": [
    "pkl_file_path = 'smiles_embedding_dict.pkl'\n",
    "try:\n",
    "    with open(pkl_file_path, 'rb') as f:\n",
    "        smiles_embedding_dict = pickle.load(f)\n",
    "except FileNotFoundError:\n",
    "    smiles_embedding_dict = \"File not found. Please make sure the file exists at the specified path.\"\n"
   ]
  },
  {
   "cell_type": "code",
   "execution_count": 35,
   "id": "aa5abc95-7c50-4375-b1da-dcbf1c398aa5",
   "metadata": {},
   "outputs": [],
   "source": [
    "import torch\n",
    "from torch.utils.data import DataLoader, Dataset\n",
    "import random\n",
    "\n",
    "class CustomDataset(Dataset):\n",
    "    def __init__(self, protein_data, smiles_data):\n",
    "        self.protein_data = protein_data\n",
    "        self.smiles_data = smiles_data\n",
    "    \n",
    "    def __len__(self):\n",
    "        return len(self.protein_data)\n",
    "\n",
    "    def __getitem__(self, idx):\n",
    "        return self.protein_data[idx], self.smiles_data[idx]\n",
    "\n",
    "def process_esm_embeddings(esm_embeddings_dict):\n",
    "    processed_embeddings = []\n",
    "    for key in esm_embeddings_dict:\n",
    "        token_representations = torch.tensor(esm_embeddings_dict[key])\n",
    "        tokens_len = token_representations.size(0)\n",
    "        sequence_representation = token_representations[1:tokens_len - 1].mean(0)\n",
    "        processed_embeddings.append(sequence_representation)\n",
    "    return processed_embeddings    "
   ]
  },
  {
   "cell_type": "code",
   "execution_count": 36,
   "id": "d9c4df90-9f76-4d06-8876-dd8fdc0fd4d7",
   "metadata": {},
   "outputs": [],
   "source": [
    "# Process ESM embeddings and prepare datasets\n",
    "# protein_embeddings = process_esm_embeddings(protein_embedding_dict)\n",
    "# #protein_embeddings = [torch.tensor(embedding) for embedding in protein_embedding_dict.values()]\n",
    "# smiles_embeddings = [torch.tensor(embedding) for embedding in smiles_embedding_dict.values()]\n",
    "\n",
    "protein_embeddings = data['processed_esm_emb']\n",
    "smiles_embeddings = data['processed_unimol_emb']\n",
    "\n",
    "assert len(protein_embeddings) == len(smiles_embeddings), \"Mismatch in number of protein and SMILES embeddings.\""
   ]
  },
  {
   "cell_type": "code",
   "execution_count": 37,
   "id": "0fc9781b-a864-49a8-9c71-d834a291bbaf",
   "metadata": {},
   "outputs": [],
   "source": [
    "import random"
   ]
  },
  {
   "cell_type": "code",
   "execution_count": 38,
   "id": "54c72787-e853-4d18-b8ac-4e3f53e67d31",
   "metadata": {},
   "outputs": [],
   "source": [
    "# Create indices and shuffle them\n",
    "indices = list(range(len(protein_embeddings)))\n",
    "random.shuffle(indices)\n",
    "\n",
    "# Split the data\n",
    "num_train = int(len(indices) * 0.7)\n",
    "num_val = int(len(indices) * 0.15)\n",
    "\n",
    "train_indices = indices[:num_train]\n",
    "val_indices = indices[num_train:num_train + num_val]\n",
    "test_indices = indices[num_train + num_val:]\n",
    "\n",
    "def create_dataset(protein_embeddings, smiles_embeddings, indices):\n",
    "    protein_data = [protein_embeddings[i] for i in indices]\n",
    "    smiles_data = [smiles_embeddings[i] for i in indices]\n",
    "    return CustomDataset(protein_data, smiles_data)\n",
    "\n",
    "# Creating datasets\n",
    "train_dataset = create_dataset(protein_embeddings, smiles_embeddings, train_indices)\n",
    "val_dataset = create_dataset(protein_embeddings, smiles_embeddings, val_indices)\n",
    "test_dataset = create_dataset(protein_embeddings, smiles_embeddings, test_indices)\n",
    "\n",
    "# Data Loader parameters\n",
    "batch_size = 4  # You can adjust this based on your GPU memory\n",
    "shuffle = True  # Typically, we shuffle the training data"
   ]
  },
  {
   "cell_type": "code",
   "execution_count": 292,
   "id": "a731753d-338a-4ec0-935d-5cb780ab378d",
   "metadata": {},
   "outputs": [],
   "source": [
    "\n",
    "# # Write train_indices to a text file\n",
    "# with open('train_indices.txt', 'w') as file:\n",
    "#     for index in train_indices:\n",
    "#         file.write(f\"{index}\\n\")\n",
    "\n",
    "# # Write val_indices to a text file\n",
    "# with open('val_indices.txt', 'w') as file:\n",
    "#     for index in val_indices:\n",
    "#         file.write(f\"{index}\\n\")\n",
    "\n",
    "# # Write test_indices to a text file\n",
    "# with open('test_indices.txt', 'w') as file:\n",
    "#     for index in test_indices:\n",
    "#         file.write(f\"{index}\\n\")\n"
   ]
  },
  {
   "cell_type": "code",
   "execution_count": 39,
   "id": "42ea5adb-e197-4d01-958d-ad87ffe0a6e1",
   "metadata": {},
   "outputs": [],
   "source": [
    "# Creating Data Loaders\n",
    "train_loader = DataLoader(train_dataset, batch_size=batch_size, shuffle=shuffle)\n",
    "val_loader = DataLoader(val_dataset, batch_size=batch_size, shuffle=False)\n",
    "test_loader = DataLoader(test_dataset, batch_size=batch_size, shuffle=False)"
   ]
  },
  {
   "cell_type": "code",
   "execution_count": 40,
   "id": "2b3a8d73-d3fa-4f55-bb77-0bbe53809cb9",
   "metadata": {},
   "outputs": [
    {
     "data": {
      "text/plain": [
       "875"
      ]
     },
     "execution_count": 40,
     "metadata": {},
     "output_type": "execute_result"
    }
   ],
   "source": [
    "len(train_loader)"
   ]
  },
  {
   "cell_type": "code",
   "execution_count": 41,
   "id": "d10d3bf2-2344-46ac-944f-7c790aa1825c",
   "metadata": {},
   "outputs": [
    {
     "data": {
      "text/plain": [
       "188"
      ]
     },
     "execution_count": 41,
     "metadata": {},
     "output_type": "execute_result"
    }
   ],
   "source": [
    "len(val_loader)"
   ]
  },
  {
   "cell_type": "code",
   "execution_count": 42,
   "id": "cab497e7-f471-4010-b40e-f86c0ec8da14",
   "metadata": {},
   "outputs": [
    {
     "data": {
      "text/plain": [
       "188"
      ]
     },
     "execution_count": 42,
     "metadata": {},
     "output_type": "execute_result"
    }
   ],
   "source": [
    "len(test_loader)"
   ]
  },
  {
   "cell_type": "markdown",
   "id": "66fb60fc-adf1-4e5d-a111-61874c0e57ce",
   "metadata": {
    "id": "YD5o-YA8iRHZ"
   },
   "source": [
    "# transition module"
   ]
  },
  {
   "cell_type": "code",
   "execution_count": 178,
   "id": "bf1ac649-e710-40e2-85d3-19f48809257c",
   "metadata": {},
   "outputs": [],
   "source": [
    "import torch\n",
    "import torch.nn as nn\n",
    "import torch.nn.functional as F"
   ]
  },
  {
   "cell_type": "markdown",
   "id": "3b710cdb-a1b4-4ac2-84a7-bfa40326cf2e",
   "metadata": {},
   "source": [
    "## variance scheduler"
   ]
  },
  {
   "cell_type": "code",
   "execution_count": 179,
   "id": "4eed1f65-e11a-439d-b269-526532089c87",
   "metadata": {
    "id": "n8LAlJ8HiSt5"
   },
   "outputs": [],
   "source": [
    "class VarianceSchedule(nn.Module):\n",
    "\n",
    "    def __init__(self, num_steps=100, s=0.01):\n",
    "        super().__init__()\n",
    "        T = num_steps\n",
    "        t = torch.arange(0, num_steps+1, dtype=torch.float)\n",
    "        f_t = torch.cos( (np.pi / 2) * ((t/T) + s) / (1 + s) ) ** 2\n",
    "        alpha_bars = f_t / f_t[0]\n",
    "\n",
    "        betas = 1 - (alpha_bars[1:] / alpha_bars[:-1])\n",
    "        betas = torch.cat([torch.zeros([1]), betas], dim=0)\n",
    "        betas = betas.clamp_max(0.999)\n",
    "\n",
    "        sigmas = torch.zeros_like(betas)\n",
    "        for i in range(1, betas.size(0)):\n",
    "            sigmas[i] = ((1 - alpha_bars[i-1]) / (1 - alpha_bars[i])) * betas[i]\n",
    "        sigmas = torch.sqrt(sigmas)\n",
    "\n",
    "        self.register_buffer('betas', betas)\n",
    "        self.register_buffer('alpha_bars', alpha_bars)\n",
    "        self.register_buffer('alphas', 1 - betas)\n",
    "        self.register_buffer('sigmas', sigmas)\n",
    "        # calculate X0 = sqrt_recip_alphas_cumprod * Xt - sqrt_recipm1_alphas_cumprod * noise\n",
    "        self.register_buffer('sqrt_recip_alphas_cumprod', torch.sqrt(1. / alpha_bars))\n",
    "        self.register_buffer('sqrt_recipm1_alphas_cumprod', torch.sqrt(1. / alpha_bars - 1))\n",
    "\n",
    "        alphas = 1 - betas\n",
    "        alphas_cumprod = torch.cumprod(alphas, dim=0)\n",
    "        alphas_cumprod_prev = F.pad(alphas_cumprod[:-1], (1, 0), value = 1.)\n",
    "        self.posterior_variance = betas * (1. - alphas_cumprod_prev) / (1. - alphas_cumprod)\n",
    "        self.posterior_log_variance_clipped = torch.log(self.posterior_variance.clamp(min =1e-20))\n",
    "        self.posterior_mean_coef1 = betas * torch.sqrt(alphas_cumprod_prev) / (1. - alphas_cumprod)\n",
    "        self.posterior_mean_coef2 = (1. - alphas_cumprod_prev) * torch.sqrt(alphas) / (1. - alphas_cumprod)\n",
    "\n",
    "    def to(self,device):\n",
    "        for k, v in self.__dict__.items():\n",
    "            if isinstance(v, torch.Tensor):\n",
    "                self.__dict__[k] = v.to(device)\n",
    "\n"
   ]
  },
  {
   "cell_type": "markdown",
   "id": "50a96777-39cf-495e-b8e4-70ff7fbf1e64",
   "metadata": {
    "id": "uBxoj4xYiXxW"
   },
   "source": [
    "## small molecule continuous transition"
   ]
  },
  {
   "cell_type": "code",
   "execution_count": 180,
   "id": "3c1f9a87-08e5-4350-b37b-36d6f92bd572",
   "metadata": {
    "id": "hUgRH7TBimOP"
   },
   "outputs": [],
   "source": [
    "class SmallMoleculeContinuousTransition(nn.Module):\n",
    "    def __init__(self, num_steps, embedding_dim, protein_embedding_dim, noise_mean, noise_std, var_sched_opt={}):\n",
    "        super().__init__()\n",
    "        self.embedding_dim = embedding_dim\n",
    "        self.protein_embedding_dim = protein_embedding_dim\n",
    "        self.var_sched = VarianceSchedule(num_steps, **var_sched_opt)\n",
    "        self.noise_mean = noise_mean\n",
    "        self.noise_std = noise_std\n",
    "\n",
    "        # Layers for adding noise\n",
    "        self.add_noise_layer = nn.Linear(embedding_dim, embedding_dim)\n",
    "\n",
    "        # Denoising layers, now also conditioned on protein embeddings\n",
    "        self.denoise_layer = nn.Linear(embedding_dim + protein_embedding_dim, embedding_dim)\n",
    "        self.denoise_mlp = nn.Sequential(\n",
    "            nn.Linear(embedding_dim + protein_embedding_dim, embedding_dim),\n",
    "            nn.ReLU(),\n",
    "            nn.Dropout(p=0.2),\n",
    "            nn.Linear(embedding_dim, embedding_dim),\n",
    "        )\n",
    "\n",
    "    def add_noise(self, molecule_embedding, t):\n",
    "        # Add noise based on the timestep 't'\n",
    "        alpha_bar = self.var_sched.alpha_bars[t].unsqueeze(-1)\n",
    "        noise = torch.randn_like(molecule_embedding) * self.noise_std + self.noise_mean\n",
    "        noised_embedding = alpha_bar * molecule_embedding + (1 - alpha_bar) * self.add_noise_layer(noise)\n",
    "        return noised_embedding\n",
    "\n",
    "    def denoise(self, noised_embedding, protein_embedding, t):\n",
    "        # Denoise embedding conditioned on protein embeddings\n",
    "        alpha_bar = self.var_sched.alpha_bars[t].unsqueeze(-1)\n",
    "        combined_embedding = torch.cat((noised_embedding, protein_embedding), dim=1)\n",
    "        processed_embedding = self.denoise_layer(combined_embedding)\n",
    "        mlp_output = self.denoise_mlp(combined_embedding)\n",
    "        predicted_embedding = alpha_bar * (mlp_output + processed_embedding) + (1 - alpha_bar) * noised_embedding\n",
    "        return predicted_embedding\n"
   ]
  },
  {
   "cell_type": "markdown",
   "id": "eec76f23-934b-4805-9e8c-358195b8b290",
   "metadata": {
    "id": "QZWrYfx4fdSy"
   },
   "source": [
    "# full_dpm and epsilon_net"
   ]
  },
  {
   "cell_type": "code",
   "execution_count": 181,
   "id": "5e39f4a1-252f-4790-b263-85d0818f7037",
   "metadata": {},
   "outputs": [],
   "source": [
    "class EpsilonNet(nn.Module):\n",
    "    def __init__(self, molecule_embedding_dim, protein_embedding_dim):\n",
    "        super().__init__()\n",
    "        self.fc1 = nn.Linear(protein_embedding_dim, 512)\n",
    "        self.fc2 = nn.Linear(512, 512)\n",
    "        self.fc3 = nn.Linear(512, molecule_embedding_dim)\n",
    "        self.relu = nn.ReLU()\n",
    "\n",
    "    def forward(self, protein_embedding):\n",
    "        x = self.relu(self.fc1(protein_embedding))\n",
    "        x = self.relu(self.fc2(x))\n",
    "        epsilon = self.fc3(x)\n",
    "        return epsilon"
   ]
  },
  {
   "cell_type": "code",
   "execution_count": 182,
   "id": "e5627f34-1801-49a7-ad0d-2a391cdc9178",
   "metadata": {
    "id": "DZXnJqQHKMgu"
   },
   "outputs": [],
   "source": [
    "class FullDPM(nn.Module):\n",
    "    def __init__(self, molecule_embedding_dim, protein_embedding_dim, num_steps, noise_mean, noise_std):\n",
    "        super().__init__()\n",
    "        self.molecule_embedding_dim = molecule_embedding_dim\n",
    "        self.protein_embedding_dim = protein_embedding_dim\n",
    "        self.num_steps = num_steps\n",
    "        self.epsilon_net = EpsilonNet(molecule_embedding_dim, protein_embedding_dim)\n",
    "        self.transition_model = SmallMoleculeContinuousTransition(num_steps, molecule_embedding_dim, protein_embedding_dim, noise_mean, noise_std)\n",
    "    \n",
    "    def forward(self, protein_embedding, t):\n",
    "        # Start with noise\n",
    "        molecule_embedding = torch.randn(protein_embedding.size(0), self.molecule_embedding_dim, device=protein_embedding.device)\n",
    "        noised_embedding = self.transition_model.add_noise(molecule_embedding, t)\n",
    "        epsilon = self.epsilon_net(protein_embedding)\n",
    "        denoised_embedding = self.transition_model.denoise(noised_embedding + epsilon, protein_embedding, t)\n",
    "        return denoised_embedding\n",
    "\n",
    "    @torch.no_grad()\n",
    "    def sample(self, protein_embedding):\n",
    "        molecule_embedding = torch.randn(protein_embedding.size(0), self.molecule_embedding_dim, device=protein_embedding.device)\n",
    "        for t in reversed(range(self.num_steps)):\n",
    "            molecule_embedding = self.forward(protein_embedding, t)\n",
    "        return molecule_embedding\n"
   ]
  },
  {
   "cell_type": "markdown",
   "id": "dfc86562-bddc-489b-abd5-eece66948397",
   "metadata": {
    "id": "apBPguqufgNn"
   },
   "source": [
    "# design module"
   ]
  },
  {
   "cell_type": "code",
   "execution_count": 183,
   "id": "7a932752-408e-4486-bd5b-14ba9f888841",
   "metadata": {
    "id": "9v9ha0IXdx8n"
   },
   "outputs": [],
   "source": [
    "class DiffusionProteinToMolecule(nn.Module):\n",
    "    def __init__(self, cfg, num_protein_features, num_molecule_features):\n",
    "        super().__init__()\n",
    "        self.cfg = cfg\n",
    "\n",
    "        self.diffusion = FullDPM(\n",
    "            num_molecule_features,\n",
    "            num_protein_features,\n",
    "            cfg['num_steps'],\n",
    "            cfg['noise_mean'],\n",
    "            cfg['noise_std']\n",
    "        )\n",
    "\n",
    "    def forward(self, protein_emb, t=None):\n",
    "        if t is None:\n",
    "            t = torch.randint(0, self.cfg['num_steps'], (1,), dtype=torch.long)\n",
    "        return self.diffusion(protein_emb, t)\n",
    "\n",
    "    @torch.no_grad()\n",
    "    def sample(self, protein_emb):\n",
    "        return self.diffusion.sample(protein_emb)\n"
   ]
  },
  {
   "cell_type": "code",
   "execution_count": null,
   "id": "e30aed41-9e33-4a42-8394-6a4c07bba2cc",
   "metadata": {},
   "outputs": [],
   "source": []
  },
  {
   "cell_type": "code",
   "execution_count": 184,
   "id": "04477392-c02a-49d0-b023-97864ca4d443",
   "metadata": {},
   "outputs": [],
   "source": [
    "import numpy as np"
   ]
  },
  {
   "cell_type": "code",
   "execution_count": 185,
   "id": "aefbfb3b-8c81-4326-a1d1-9d49dbb908f4",
   "metadata": {},
   "outputs": [
    {
     "data": {
      "text/plain": [
       "DiffusionProteinToMolecule(\n",
       "  (diffusion): FullDPM(\n",
       "    (epsilon_net): EpsilonNet(\n",
       "      (fc1): Linear(in_features=1280, out_features=512, bias=True)\n",
       "      (fc2): Linear(in_features=512, out_features=512, bias=True)\n",
       "      (fc3): Linear(in_features=512, out_features=512, bias=True)\n",
       "      (relu): ReLU()\n",
       "    )\n",
       "    (transition_model): SmallMoleculeContinuousTransition(\n",
       "      (var_sched): VarianceSchedule()\n",
       "      (add_noise_layer): Linear(in_features=512, out_features=512, bias=True)\n",
       "      (denoise_layer): Linear(in_features=1792, out_features=512, bias=True)\n",
       "      (denoise_mlp): Sequential(\n",
       "        (0): Linear(in_features=1792, out_features=512, bias=True)\n",
       "        (1): ReLU()\n",
       "        (2): Dropout(p=0.2, inplace=False)\n",
       "        (3): Linear(in_features=512, out_features=512, bias=True)\n",
       "      )\n",
       "    )\n",
       "  )\n",
       ")"
      ]
     },
     "execution_count": 185,
     "metadata": {},
     "output_type": "execute_result"
    }
   ],
   "source": [
    "import torch\n",
    "import torch.nn as nn\n",
    "import torch.optim as optim\n",
    "\n",
    "# Configuration for the diffusion model\n",
    "cfg = {\n",
    "    'num_steps': 100,  # Number of steps in the diffusion process\n",
    "    'noise_mean': 0.0,  \n",
    "    'noise_std': 1.0,\n",
    "}\n",
    "\n",
    "num_protein_features = 1280  # Example dimension of protein embeddings\n",
    "num_molecule_features = 512  # Desired dimension of molecule embeddings\n",
    "\n",
    "# Initialize the model\n",
    "model = DiffusionProteinToMolecule(cfg, num_protein_features, num_molecule_features)\n",
    "model.to(torch.device(\"cuda\" if torch.cuda.is_available() else \"cpu\"))\n"
   ]
  },
  {
   "cell_type": "code",
   "execution_count": 186,
   "id": "572867aa-bf9c-4c61-b3fc-770a5dff8682",
   "metadata": {},
   "outputs": [],
   "source": [
    "device = torch.device(\"cuda:0\" if torch.cuda.is_available() else \"cpu\")\n",
    "print(\"Using device:\", device)"
   ]
  },
  {
   "cell_type": "code",
   "execution_count": 187,
   "id": "286110c9-3c09-422f-93fc-442564f9dbac",
   "metadata": {},
   "outputs": [],
   "source": [
    "import os\n",
    "import sys\n",
    "\n",
    "# Redirect standard output\n",
    "sys.stdout = open(os.devnull, 'w')\n",
    "def train(model, train_loader, optimizer, criterion, device):\n",
    "    model.train()\n",
    "    total_loss = 0\n",
    "    for batch_idx, (protein_emb, true_molecule_emb) in enumerate(train_loader):\n",
    "        protein_emb = protein_emb.to(device)\n",
    "        true_molecule_emb = true_molecule_emb.to(device)\n",
    "\n",
    "        optimizer.zero_grad()\n",
    "        generated_molecule_emb = model(protein_emb)\n",
    "        loss = criterion(generated_molecule_emb, true_molecule_emb)\n",
    "        loss.backward()\n",
    "        optimizer.step()\n",
    "        total_loss += loss.item()\n",
    "    return total_loss / len(train_loader)\n",
    "\n",
    "def validate(model, val_loader, criterion, device):\n",
    "    model.eval()\n",
    "    total_loss = 0\n",
    "    with torch.no_grad():\n",
    "        for protein_emb, true_molecule_emb in val_loader:\n",
    "            protein_emb = protein_emb.to(device)\n",
    "            true_molecule_emb = true_molecule_emb.to(device)\n",
    "            generated_molecule_emb = model(protein_emb)\n",
    "            loss = criterion(generated_molecule_emb, true_molecule_emb)\n",
    "            total_loss += loss.item()\n",
    "    return total_loss / len(val_loader)\n",
    "\n",
    "\n",
    "# Training setup\n",
    "device = torch.device('cuda:0' if torch.cuda.is_available() else 'cpu')\n",
    "model.to(device)\n",
    "# optimizer = torch.optim.Adam(model.parameters(), lr=0.001)\n",
    "optimizer = torch.optim.Adam(model.parameters(), lr=0.0001)  # Adjust learning rate\n",
    "torch.nn.utils.clip_grad_norm_(model.parameters(), max_norm=1.0) # use gradient clipping -- combats exploding gradients\n",
    "# criterion = torch.nn.CrossEntropyLoss()\n",
    "# criterion = torch.nn.MSELoss()\n",
    "criterion = torch.nn.L1Loss()\n",
    "\n",
    "\n",
    "# Training execution\n",
    "import matplotlib.pyplot as plt\n",
    "\n",
    "train_losses = []\n",
    "val_losses = []\n",
    "\n",
    "num_epochs = 20\n",
    "\n",
    "for epoch in range(1, num_epochs + 1):\n",
    "    train_loss = train(model, train_loader, optimizer, criterion, device)\n",
    "    val_loss = validate(model, val_loader, criterion, device)\n",
    "    train_losses.append(train_loss)\n",
    "    val_losses.append(val_loss)\n",
    "    print(f\"Epoch {epoch}, Train Loss: {train_loss:.4f}, Val Loss: {val_loss:.4f}\")\n",
    "# Restore standard output to its original state\n",
    "sys.stdout = sys.__stdout__\n",
    "    "
   ]
  },
  {
   "cell_type": "code",
   "execution_count": 188,
   "id": "af6d8606-f353-40f7-a59c-110c2efeeeeb",
   "metadata": {},
   "outputs": [
    {
     "data": {
      "image/png": "[encoded data removed]",
      "text/plain": [
       "<Figure size 432x288 with 1 Axes>"
      ]
     },
     "metadata": {
      "needs_background": "light"
     },
     "output_type": "display_data"
    }
   ],
   "source": [
    "plt.plot(range(1, num_epochs + 1), train_losses, label='Training Loss')\n",
    "plt.plot(range(1, num_epochs + 1), val_losses, label='Validation Loss')\n",
    "plt.xlabel('Epochs')\n",
    "plt.ylabel('Loss')\n",
    "plt.title('Training and Validation Losses')\n",
    "plt.legend()\n",
    "plt.show()"
   ]
  },
  {
   "cell_type": "code",
   "execution_count": 189,
   "id": "23c8da7e-bf5d-40ed-907d-078405fabdd7",
   "metadata": {},
   "outputs": [],
   "source": [
    "empty_pe = []\n",
    "for protein_emb, molecule_emb in test_loader:\n",
    "    empty_pe.append(protein_emb)"
   ]
  },
  {
   "cell_type": "code",
   "execution_count": 190,
   "id": "cfd35e98-8626-43ca-a50a-15963beb9c5a",
   "metadata": {},
   "outputs": [
    {
     "data": {
      "text/plain": [
       "188"
      ]
     },
     "execution_count": 190,
     "metadata": {},
     "output_type": "execute_result"
    }
   ],
   "source": [
    "len(empty_pe)"
   ]
  },
  {
   "cell_type": "code",
   "execution_count": 191,
   "id": "af3bc667-b49a-45f5-b836-1c027b177cbd",
   "metadata": {},
   "outputs": [
    {
     "data": {
      "text/plain": [
       "750"
      ]
     },
     "execution_count": 191,
     "metadata": {},
     "output_type": "execute_result"
    }
   ],
   "source": [
    "from sklearn.decomposition import PCA\n",
    "import matplotlib.pyplot as plt\n",
    "import torch\n",
    "\n",
    "model.eval()\n",
    "generated_embeddings = []\n",
    "ground_truth_embeddings = []\n",
    "\n",
    "with torch.no_grad():\n",
    "    for protein_emb, molecule_emb in val_loader:\n",
    "        protein_emb = protein_emb.to(device)\n",
    "        molecule_emb = molecule_emb.to(device)\n",
    "        output = model(protein_emb)\n",
    "        generated_embeddings.extend(output.cpu().numpy())\n",
    "        ground_truth_embeddings.extend(molecule_emb.cpu().numpy())\n",
    "\n",
    "# Convert to numpy arrays\n",
    "generated_embeddings = np.array(generated_embeddings)\n",
    "ground_truth_embeddings = np.array(ground_truth_embeddings)\n",
    "len(ground_truth_embeddings)"
   ]
  },
  {
   "cell_type": "code",
   "execution_count": 192,
   "id": "a5747aef-3d01-4dc3-92a7-149725f5548d",
   "metadata": {},
   "outputs": [
    {
     "data": {
      "image/png": "[encoded data removed]",
      "text/plain": [
       "<Figure size 576x432 with 1 Axes>"
      ]
     },
     "metadata": {
      "needs_background": "light"
     },
     "output_type": "display_data"
    }
   ],
   "source": [
    "# Run PCA\n",
    "pca = PCA(n_components=2) # Change to n_components=3 for 3D\n",
    "combined_embeddings = np.concatenate((generated_embeddings, ground_truth_embeddings))\n",
    "pca_result = pca.fit_transform(combined_embeddings)\n",
    "\n",
    "# Split the PCA result back into generated and ground truth\n",
    "split_point = generated_embeddings.shape[0]\n",
    "generated_pca = pca_result[:split_point, :]\n",
    "ground_truth_pca = pca_result[split_point:, :]\n",
    "\n",
    "# Plotting\n",
    "plt.figure(figsize=(8, 6))\n",
    "plt.scatter(generated_pca[:, 0], generated_pca[:, 1], label='Generated Embeddings', alpha=0.5)\n",
    "plt.scatter(ground_truth_pca[:, 0], ground_truth_pca[:, 1], label='Ground Truth Embeddings', alpha=0.5)\n",
    "plt.xlabel('PCA Component 1')\n",
    "plt.ylabel('PCA Component 2')\n",
    "plt.title('PCA of Generated vs Ground Truth Embeddings')\n",
    "plt.legend()\n",
    "plt.show()"
   ]
  },
  {
   "cell_type": "code",
   "execution_count": 193,
   "id": "077722ac-81ee-4a36-9fdb-1ee5e101cd91",
   "metadata": {},
   "outputs": [
    {
     "data": {
      "image/png": "[encoded data removed]",
      "text/plain": [
       "<Figure size 576x432 with 1 Axes>"
      ]
     },
     "metadata": {
      "needs_background": "light"
     },
     "output_type": "display_data"
    }
   ],
   "source": [
    "from sklearn.manifold import TSNE\n",
    "\n",
    "# Running t-SNE on the combined embeddings\n",
    "tsne = TSNE(n_components=2, random_state=42)  # set random_state for reproducibility\n",
    "tsne_result = tsne.fit_transform(combined_embeddings)\n",
    "\n",
    "# Split the t-SNE result back into generated and ground truth embeddings\n",
    "generated_tsne = tsne_result[:split_point, :]\n",
    "ground_truth_tsne = tsne_result[split_point:, :]\n",
    "\n",
    "# Plotting the t-SNE results\n",
    "plt.figure(figsize=(8, 6))\n",
    "plt.scatter(generated_tsne[:, 0], generated_tsne[:, 1], label='Generated Embeddings', alpha=0.5)\n",
    "plt.scatter(ground_truth_tsne[:, 0], ground_truth_tsne[:, 1], label='Ground Truth Embeddings', alpha=0.5)\n",
    "plt.xlabel('t-SNE Component 1')\n",
    "plt.ylabel('t-SNE Component 2')\n",
    "plt.title('t-SNE of Generated vs Ground Truth Embeddings')\n",
    "plt.legend()\n",
    "plt.show()\n"
   ]
  },
  {
   "cell_type": "code",
   "execution_count": 194,
   "id": "6b0d536a-c970-474a-b6e7-8cee17a25142",
   "metadata": {},
   "outputs": [],
   "source": [
    "from sklearn.metrics.pairwise import cosine_similarity\n",
    "cosine_similarities = cosine_similarity(generated_embeddings, ground_truth_embeddings)\n",
    "cosine_similarities_diag = np.diag(cosine_similarities)\n",
    "average_cosine_similarity = np.mean(cosine_similarities_diag)"
   ]
  },
  {
   "cell_type": "code",
   "execution_count": 195,
   "id": "715c6720-9db6-4fb2-9ff5-730985d7a588",
   "metadata": {},
   "outputs": [
    {
     "data": {
      "text/plain": [
       "0.9704699"
      ]
     },
     "execution_count": 195,
     "metadata": {},
     "output_type": "execute_result"
    }
   ],
   "source": [
    "average_cosine_similarity"
   ]
  },
  {
   "cell_type": "markdown",
   "id": "cd9328c9-223f-409f-bff6-898f7c1cda27",
   "metadata": {},
   "source": [
    "expanded chemical space pca/tsne"
   ]
  },
  {
   "cell_type": "code",
   "execution_count": 318,
   "id": "4f409c67-f951-4e13-a283-b98b1beab4de",
   "metadata": {},
   "outputs": [],
   "source": [
    "# comparison plot of one protein and its 512 individual features"
   ]
  },
  {
   "cell_type": "code",
   "execution_count": 319,
   "id": "41d946fa-5512-4815-8cd3-05796323c135",
   "metadata": {},
   "outputs": [
    {
     "data": {
      "image/png": "[encoded data removed]",
      "text/plain": [
       "<Figure size 864x432 with 1 Axes>"
      ]
     },
     "metadata": {
      "needs_background": "light"
     },
     "output_type": "display_data"
    }
   ],
   "source": [
    "features_range = np.arange(ground_truth_embeddings[0].shape[0])\n",
    "\n",
    "# Plot each feature of the ground truth against each feature of the generated embeddings\n",
    "plt.figure(figsize=(12, 6))\n",
    "plt.scatter(features_range, ground_truth_embeddings[0], c='blue', alpha=0.5, label='Ground Truth Features')\n",
    "plt.scatter(features_range, generated_embeddings[0], c='red', alpha=0.5, label='Generated Features')\n",
    "plt.title('Feature Comparison')\n",
    "plt.xlabel('Feature Index')\n",
    "plt.ylabel('Feature Value')\n",
    "plt.legend()\n",
    "plt.show()"
   ]
  },
  {
   "cell_type": "code",
   "execution_count": null,
   "id": "18f1f557-9122-43a4-955c-ad03bba06050",
   "metadata": {},
   "outputs": [],
   "source": []
  },
  {
   "cell_type": "code",
   "execution_count": null,
   "id": "d60ffd07-3226-4c27-8940-e80f7b56a7b2",
   "metadata": {},
   "outputs": [],
   "source": []
  },
  {
   "cell_type": "code",
   "execution_count": null,
   "id": "2cbdc536-c9b1-4f18-856f-66f95145a6bf",
   "metadata": {},
   "outputs": [],
   "source": []
  },
  {
   "cell_type": "markdown",
   "id": "aa81ca99-d8cb-4c16-8977-c25908b6b0a9",
   "metadata": {},
   "source": [
    "# look-up table decoding scheme"
   ]
  },
  {
   "cell_type": "code",
   "execution_count": 270,
   "id": "6384b885-e22d-45b0-8baa-67e428b509a6",
   "metadata": {},
   "outputs": [],
   "source": [
    "protein_embedding_sequence_dict = {}\n",
    "for index, row in data.iterrows():\n",
    "    protein_embedding = row['processed_esm_emb'] \n",
    "    protein_sequence = row['protein'] \n",
    "    protein_embedding_sequence_dict[tuple(protein_embedding)] = protein_sequence\n"
   ]
  },
  {
   "cell_type": "code",
   "execution_count": 237,
   "id": "f2a4ad45-e9cf-4403-941d-4d2ce7a9b0ed",
   "metadata": {},
   "outputs": [],
   "source": [
    "embedding_smiles_dict = {}\n",
    "for index, row in data.iterrows():\n",
    "    embedding = row['processed_unimol_emb'] \n",
    "    smiles = row['smiles'] \n",
    "    embedding_smiles_dict[tuple(embedding)] = smiles\n"
   ]
  },
  {
   "cell_type": "code",
   "execution_count": 243,
   "id": "dd482691-cc7c-4200-80ba-9cbe5f769ae9",
   "metadata": {},
   "outputs": [],
   "source": [
    "import numpy as np\n",
    "\n",
    "def find_closest_embedding(generated_embedding, embedding_smiles_dict):\n",
    "    closest_smiles = None\n",
    "    closest_embedding = None\n",
    "    min_distance = float('inf')\n",
    "\n",
    "    for ground_truth_embedding, smiles in embedding_smiles_dict.items():\n",
    "        distance = np.linalg.norm(np.array(ground_truth_embedding) - generated_embedding)\n",
    "        if distance < min_distance:\n",
    "            min_distance = distance\n",
    "            closest_smiles = smiles\n",
    "            closest_embedding = ground_truth_embedding\n",
    "\n",
    "    return closest_smiles, min_distance, closest_embedding\n"
   ]
  },
  {
   "cell_type": "code",
   "execution_count": null,
   "id": "44959f44-9718-4d16-b231-42c62e27af99",
   "metadata": {},
   "outputs": [],
   "source": []
  },
  {
   "cell_type": "code",
   "execution_count": 248,
   "id": "08d67217-f9eb-4c70-ba94-913e2b8d8853",
   "metadata": {},
   "outputs": [],
   "source": [
    "generated_embeddings_subset = generated_embeddings[0:5]"
   ]
  },
  {
   "cell_type": "code",
   "execution_count": 252,
   "id": "516956e6-c5c5-4f8f-8813-c5d71e658339",
   "metadata": {},
   "outputs": [],
   "source": [
    "# find_closest_embedding(generated_embeddings[0], embedding_smiles_dict)"
   ]
  },
  {
   "cell_type": "code",
   "execution_count": 249,
   "id": "ed1f105c-d894-403c-abca-72083f54c522",
   "metadata": {},
   "outputs": [
    {
     "data": {
      "text/plain": [
       "array([[-0.13251042, -0.45946252,  0.12510097, ...,  2.0735383 ,\n",
       "         0.31425202, -1.934721  ],\n",
       "       [-0.2060599 , -0.17077297,  0.24289945, ...,  2.016259  ,\n",
       "         0.524249  , -1.9384128 ],\n",
       "       [-0.17244926, -0.34380633,  0.5800451 , ...,  2.3491077 ,\n",
       "         0.383519  , -2.159598  ],\n",
       "       [-0.47262442, -0.32747936, -0.10217211, ...,  2.2840955 ,\n",
       "         0.15918472, -1.9951159 ],\n",
       "       [-0.5772901 , -0.39902294,  0.20645648, ...,  2.350009  ,\n",
       "         0.30755273, -2.0348275 ]], dtype=float32)"
      ]
     },
     "execution_count": 249,
     "metadata": {},
     "output_type": "execute_result"
    }
   ],
   "source": [
    "generated_embeddings_subset"
   ]
  },
  {
   "cell_type": "code",
   "execution_count": 256,
   "id": "8d95d419-be7a-467a-bfc1-beeb4ccf0271",
   "metadata": {},
   "outputs": [],
   "source": [
    "import pandas as pd\n",
    "\n",
    "# Data lists\n",
    "decoded_smiles_list = []\n",
    "min_distance_list = []\n",
    "ground_truth_smiles_list = []\n",
    "\n",
    "for generated_embedding in generated_embeddings:\n",
    "    closest_smiles, min_distance, closest_embedding = find_closest_embedding(generated_embedding, embedding_smiles_dict)\n",
    "    decoded_smiles_list.append(closest_smiles)\n",
    "    min_distance_list.append(min_distance)\n",
    "    ground_truth_smiles_list.append(embedding_smiles_dict[tuple(closest_embedding)])"
   ]
  },
  {
   "cell_type": "code",
   "execution_count": 257,
   "id": "378bebb0-b54d-4522-b729-a91e5d919f8c",
   "metadata": {},
   "outputs": [],
   "source": [
    "# Create DataFrame\n",
    "df = pd.DataFrame({\n",
    "    'Decoded_SMILES': decoded_smiles_list,\n",
    "    'Min_Distance': min_distance_list,\n",
    "    'Ground_Truth_SMILES': ground_truth_smiles_list\n",
    "})"
   ]
  },
  {
   "cell_type": "code",
   "execution_count": 288,
   "id": "1df0f878-5845-43cb-ac0a-56598aa1b254",
   "metadata": {
    "tags": []
   },
   "outputs": [],
   "source": [
    "df = df[['Decoded_SMILES','Min_Distance']]"
   ]
  },
  {
   "cell_type": "code",
   "execution_count": 289,
   "id": "3700f096-ebbd-4cad-a75f-23ac026bd4f5",
   "metadata": {},
   "outputs": [
    {
     "data": {
      "text/html": [
       "<div>\n",
       "<style scoped>\n",
       "    .dataframe tbody tr th:only-of-type {\n",
       "        vertical-align: middle;\n",
       "    }\n",
       "\n",
       "    .dataframe tbody tr th {\n",
       "        vertical-align: top;\n",
       "    }\n",
       "\n",
       "    .dataframe thead th {\n",
       "        text-align: right;\n",
       "    }\n",
       "</style>\n",
       "<table border=\"1\" class=\"dataframe\">\n",
       "  <thead>\n",
       "    <tr style=\"text-align: right;\">\n",
       "      <th></th>\n",
       "      <th>Decoded_SMILES</th>\n",
       "      <th>Min_Distance</th>\n",
       "    </tr>\n",
       "  </thead>\n",
       "  <tbody>\n",
       "    <tr>\n",
       "      <th>0</th>\n",
       "      <td>CN(C)c1ccc(cn1)-c1cc2nccnc2c(NC[C@H]2CNCCC2(F)...</td>\n",
       "      <td>4.233210</td>\n",
       "    </tr>\n",
       "    <tr>\n",
       "      <th>1</th>\n",
       "      <td>Cn1cc(cc(N)c1=O)-c1cccc(c1CO)-n1c(cc2cc(ccc2c1...</td>\n",
       "      <td>4.535190</td>\n",
       "    </tr>\n",
       "    <tr>\n",
       "      <th>2</th>\n",
       "      <td>CC(C)c1cc(C(=O)N2Cc3ccc(CN4CCN(C)CC4)cc3C2)c(O...</td>\n",
       "      <td>4.616539</td>\n",
       "    </tr>\n",
       "    <tr>\n",
       "      <th>3</th>\n",
       "      <td>COc1ccc(Cn2c(nnc2[C@H](Cc2ccccc2)NC(C)=O)[C@@H...</td>\n",
       "      <td>4.581069</td>\n",
       "    </tr>\n",
       "    <tr>\n",
       "      <th>4</th>\n",
       "      <td>NS(=O)(=O)c1ccc(cc1)N1N=C(CC1c1ccc2OCCOc2c1)C(...</td>\n",
       "      <td>3.765682</td>\n",
       "    </tr>\n",
       "    <tr>\n",
       "      <th>...</th>\n",
       "      <td>...</td>\n",
       "      <td>...</td>\n",
       "    </tr>\n",
       "    <tr>\n",
       "      <th>745</th>\n",
       "      <td>Cc1c(-c2ccnc3c(F)cccc23)c2cc(C)ccc2n1CC(O)=O</td>\n",
       "      <td>3.492570</td>\n",
       "    </tr>\n",
       "    <tr>\n",
       "      <th>746</th>\n",
       "      <td>OC(=O)COc1ccc(Cl)cc1[C@H]1N(CCc2ncsc12)C(=O)[C...</td>\n",
       "      <td>3.526263</td>\n",
       "    </tr>\n",
       "    <tr>\n",
       "      <th>747</th>\n",
       "      <td>Cc1c(-c2ccnc3c(F)cccc23)c2cc(C)ccc2n1CC(O)=O</td>\n",
       "      <td>3.844205</td>\n",
       "    </tr>\n",
       "    <tr>\n",
       "      <th>748</th>\n",
       "      <td>Cn1ccc(Nc2nc(N)cc(n2)-c2cccc(c2CO)-n2ccc3cc(cc...</td>\n",
       "      <td>4.524452</td>\n",
       "    </tr>\n",
       "    <tr>\n",
       "      <th>749</th>\n",
       "      <td>COc1ccccc1-c1nccnc1C1CN(C1)C(=O)c1nc2ccccc2[nH]1</td>\n",
       "      <td>4.654112</td>\n",
       "    </tr>\n",
       "  </tbody>\n",
       "</table>\n",
       "<p>750 rows × 2 columns</p>\n",
       "</div>"
      ],
      "text/plain": [
       "                                        Decoded_SMILES  Min_Distance\n",
       "0    CN(C)c1ccc(cn1)-c1cc2nccnc2c(NC[C@H]2CNCCC2(F)...      4.233210\n",
       "1    Cn1cc(cc(N)c1=O)-c1cccc(c1CO)-n1c(cc2cc(ccc2c1...      4.535190\n",
       "2    CC(C)c1cc(C(=O)N2Cc3ccc(CN4CCN(C)CC4)cc3C2)c(O...      4.616539\n",
       "3    COc1ccc(Cn2c(nnc2[C@H](Cc2ccccc2)NC(C)=O)[C@@H...      4.581069\n",
       "4    NS(=O)(=O)c1ccc(cc1)N1N=C(CC1c1ccc2OCCOc2c1)C(...      3.765682\n",
       "..                                                 ...           ...\n",
       "745       Cc1c(-c2ccnc3c(F)cccc23)c2cc(C)ccc2n1CC(O)=O      3.492570\n",
       "746  OC(=O)COc1ccc(Cl)cc1[C@H]1N(CCc2ncsc12)C(=O)[C...      3.526263\n",
       "747       Cc1c(-c2ccnc3c(F)cccc23)c2cc(C)ccc2n1CC(O)=O      3.844205\n",
       "748  Cn1ccc(Nc2nc(N)cc(n2)-c2cccc(c2CO)-n2ccc3cc(cc...      4.524452\n",
       "749   COc1ccccc1-c1nccnc1C1CN(C1)C(=O)c1nc2ccccc2[nH]1      4.654112\n",
       "\n",
       "[750 rows x 2 columns]"
      ]
     },
     "execution_count": 289,
     "metadata": {},
     "output_type": "execute_result"
    }
   ],
   "source": [
    "df"
   ]
  },
  {
   "cell_type": "code",
   "execution_count": 290,
   "id": "d1c538ae-2365-41ab-b4a1-d931c8b0b5ba",
   "metadata": {},
   "outputs": [],
   "source": [
    "df.to_csv('decoded_look_up_table.csv')"
   ]
  },
  {
   "cell_type": "code",
   "execution_count": 286,
   "id": "f87af139-3887-4a34-9511-9d2e9c309827",
   "metadata": {},
   "outputs": [],
   "source": [
    "import pandas as p\n",
    "val_data_lookup = data.iloc[val_indices]"
   ]
  },
  {
   "cell_type": "code",
   "execution_count": 293,
   "id": "790ed94f-6914-4cea-a674-b33297633ad2",
   "metadata": {},
   "outputs": [],
   "source": [
    "val_data_lookup.reset_index(drop=True, inplace=True)"
   ]
  },
  {
   "cell_type": "code",
   "execution_count": 302,
   "id": "06fa3c21-0233-4a00-8fe7-4b29b5c4dff2",
   "metadata": {},
   "outputs": [],
   "source": [
    "merged_df = pd.concat([val_data_lookup[['protein','smiles']], df], axis=1)"
   ]
  },
  {
   "cell_type": "code",
   "execution_count": 299,
   "id": "0a0b5736-2937-4e48-a1fe-8e2614f6d814",
   "metadata": {},
   "outputs": [],
   "source": [
    "merged_df.to_csv('decoded_smiles_lookup_protein_seq_ref.csv')"
   ]
  },
  {
   "cell_type": "code",
   "execution_count": 306,
   "id": "76a27d6e-fcbf-46c9-9eba-d2f77d3b888e",
   "metadata": {},
   "outputs": [],
   "source": [
    "from rdkit import Chem\n",
    "from rdkit.Chem import Draw\n",
    "from rdkit.Chem import PandasTools\n",
    "\n",
    "# Create RDKit molecule objects from the 'smiles' column\n",
    "merged_df['original_mol'] = [Chem.MolFromSmiles(s) for s in merged_df['smiles']]\n",
    "\n",
    "# Create RDKit molecule objects from the 'Decoded_SMILES' column\n",
    "merged_df['decoded_mol'] = [Chem.MolFromSmiles(s) for s in merged_df['Decoded_SMILES']]\n",
    "\n",
    "# Add molecule columns to the DataFrame using PandasTools for better visualization\n",
    "PandasTools.AddMoleculeColumnToFrame(merged_df, 'smiles', 'original_mol')\n",
    "PandasTools.AddMoleculeColumnToFrame(merged_df, 'Decoded_SMILES', 'decoded_mol')\n"
   ]
  },
  {
   "cell_type": "code",
   "execution_count": 308,
   "id": "617aa9c3-f2d2-493a-9f6c-733e01a9548f",
   "metadata": {},
   "outputs": [],
   "source": [
    "merged_df.to_csv('decoded_smiles_lookup_protein_seq_ref_includes_structures.csv')"
   ]
  },
  {
   "cell_type": "code",
   "execution_count": 320,
   "id": "e9e28ec7-7019-4311-9329-c7c683ee510b",
   "metadata": {},
   "outputs": [],
   "source": [
    "import pandas as pd\n",
    "from rdkit import Chem\n",
    "from rdkit.Chem import DataStructs\n",
    "from rdkit.Chem.Fingerprints import FingerprintMols"
   ]
  },
  {
   "cell_type": "code",
   "execution_count": 321,
   "id": "dcbcdd11-0b66-4d4e-bdf2-f9373ffe01be",
   "metadata": {},
   "outputs": [
    {
     "data": {
      "text/html": [
       "<div>\n",
       "<style scoped>\n",
       "    .dataframe tbody tr th:only-of-type {\n",
       "        vertical-align: middle;\n",
       "    }\n",
       "\n",
       "    .dataframe tbody tr th {\n",
       "        vertical-align: top;\n",
       "    }\n",
       "\n",
       "    .dataframe thead th {\n",
       "        text-align: right;\n",
       "    }\n",
       "</style>\n",
       "<table border=\"1\" class=\"dataframe\">\n",
       "  <thead>\n",
       "    <tr style=\"text-align: right;\">\n",
       "      <th></th>\n",
       "      <th>protein</th>\n",
       "      <th>smiles</th>\n",
       "      <th>Decoded_SMILES</th>\n",
       "      <th>Min_Distance</th>\n",
       "      <th>original_mol</th>\n",
       "      <th>decoded_mol</th>\n",
       "      <th>Tanimoto_Similarity</th>\n",
       "    </tr>\n",
       "  </thead>\n",
       "  <tbody>\n",
       "    <tr>\n",
       "      <th>0</th>\n",
       "      <td>MLLSKFGSLAHLCGPGGVDHLPVKILQPAKADKESFEKAYQVGAVL...</td>\n",
       "      <td>C[C@@H]1C[C@H](N)CN(C1)c1ccncc1NC(=O)c1ccc2ccn...</td>\n",
       "      <td>CN(C)c1ccc(cn1)-c1cc2nccnc2c(NC[C@H]2CNCCC2(F)...</td>\n",
       "      <td>4.233210</td>\n",
       "      <td>&lt;rdkit.Chem.rdchem.Mol object at 0x7f16f469f7b0&gt;</td>\n",
       "      <td>&lt;rdkit.Chem.rdchem.Mol object at 0x7f16f43f4eb0&gt;</td>\n",
       "      <td>0.410737</td>\n",
       "    </tr>\n",
       "    <tr>\n",
       "      <th>1</th>\n",
       "      <td>MSQERPTFYRQELNKTIWEVPERYQNLSPVGSGAYGSVCAAFDTKT...</td>\n",
       "      <td>CC(C)c1nnc2ccc(cn12)-c1ocnc1-c1ccc(F)c(Cl)c1</td>\n",
       "      <td>Cn1cc(cc(N)c1=O)-c1cccc(c1CO)-n1c(cc2cc(ccc2c1...</td>\n",
       "      <td>4.535190</td>\n",
       "      <td>&lt;rdkit.Chem.rdchem.Mol object at 0x7f16f469f820&gt;</td>\n",
       "      <td>&lt;rdkit.Chem.rdchem.Mol object at 0x7f16f43f4e40&gt;</td>\n",
       "      <td>0.461944</td>\n",
       "    </tr>\n",
       "    <tr>\n",
       "      <th>2</th>\n",
       "      <td>MSQERPTFYRQELNKTIWEVPERYQNLSPVGSGAYGSVCAAFDTKT...</td>\n",
       "      <td>CSc1nc(c([nH]1)-c1ccc(F)cc1)-c1ccnc(NC2CCCCC2C)c1</td>\n",
       "      <td>CC(C)c1cc(C(=O)N2Cc3ccc(CN4CCN(C)CC4)cc3C2)c(O...</td>\n",
       "      <td>4.616539</td>\n",
       "      <td>&lt;rdkit.Chem.rdchem.Mol object at 0x7f16f469f890&gt;</td>\n",
       "      <td>&lt;rdkit.Chem.rdchem.Mol object at 0x7f16f43f4dd0&gt;</td>\n",
       "      <td>0.212732</td>\n",
       "    </tr>\n",
       "    <tr>\n",
       "      <th>3</th>\n",
       "      <td>MWNATPSEEPGFNLTLADLDWDASPGNDSLGDELLQLFPAPLLAGV...</td>\n",
       "      <td>CCN(CC)CCN1C(=O)[C@](O)(c2c1cc(cc2C(F)(F)F)C(N...</td>\n",
       "      <td>COc1ccc(Cn2c(nnc2[C@H](Cc2ccccc2)NC(C)=O)[C@@H...</td>\n",
       "      <td>4.581069</td>\n",
       "      <td>&lt;rdkit.Chem.rdchem.Mol object at 0x7f16f469f900&gt;</td>\n",
       "      <td>&lt;rdkit.Chem.rdchem.Mol object at 0x7f16f43f4d60&gt;</td>\n",
       "      <td>0.491976</td>\n",
       "    </tr>\n",
       "    <tr>\n",
       "      <th>4</th>\n",
       "      <td>MAPLCPSPWLPLLIPAPAPGLTVQLLLSLLLLVPVHPQRLPRMQED...</td>\n",
       "      <td>NS(=O)(=O)c1cc(C(=O)NC2CCCCC2)c(SCc2ccccc2)cc1Cl</td>\n",
       "      <td>NS(=O)(=O)c1ccc(cc1)N1N=C(CC1c1ccc2OCCOc2c1)C(...</td>\n",
       "      <td>3.765682</td>\n",
       "      <td>&lt;rdkit.Chem.rdchem.Mol object at 0x7f16f469f970&gt;</td>\n",
       "      <td>&lt;rdkit.Chem.rdchem.Mol object at 0x7f16f43f4cf0&gt;</td>\n",
       "      <td>0.361806</td>\n",
       "    </tr>\n",
       "  </tbody>\n",
       "</table>\n",
       "</div>"
      ],
      "text/plain": [
       "                                             protein  \\\n",
       "0  MLLSKFGSLAHLCGPGGVDHLPVKILQPAKADKESFEKAYQVGAVL...   \n",
       "1  MSQERPTFYRQELNKTIWEVPERYQNLSPVGSGAYGSVCAAFDTKT...   \n",
       "2  MSQERPTFYRQELNKTIWEVPERYQNLSPVGSGAYGSVCAAFDTKT...   \n",
       "3  MWNATPSEEPGFNLTLADLDWDASPGNDSLGDELLQLFPAPLLAGV...   \n",
       "4  MAPLCPSPWLPLLIPAPAPGLTVQLLLSLLLLVPVHPQRLPRMQED...   \n",
       "\n",
       "                                              smiles  \\\n",
       "0  C[C@@H]1C[C@H](N)CN(C1)c1ccncc1NC(=O)c1ccc2ccn...   \n",
       "1       CC(C)c1nnc2ccc(cn12)-c1ocnc1-c1ccc(F)c(Cl)c1   \n",
       "2  CSc1nc(c([nH]1)-c1ccc(F)cc1)-c1ccnc(NC2CCCCC2C)c1   \n",
       "3  CCN(CC)CCN1C(=O)[C@](O)(c2c1cc(cc2C(F)(F)F)C(N...   \n",
       "4   NS(=O)(=O)c1cc(C(=O)NC2CCCCC2)c(SCc2ccccc2)cc1Cl   \n",
       "\n",
       "                                      Decoded_SMILES  Min_Distance  \\\n",
       "0  CN(C)c1ccc(cn1)-c1cc2nccnc2c(NC[C@H]2CNCCC2(F)...      4.233210   \n",
       "1  Cn1cc(cc(N)c1=O)-c1cccc(c1CO)-n1c(cc2cc(ccc2c1...      4.535190   \n",
       "2  CC(C)c1cc(C(=O)N2Cc3ccc(CN4CCN(C)CC4)cc3C2)c(O...      4.616539   \n",
       "3  COc1ccc(Cn2c(nnc2[C@H](Cc2ccccc2)NC(C)=O)[C@@H...      4.581069   \n",
       "4  NS(=O)(=O)c1ccc(cc1)N1N=C(CC1c1ccc2OCCOc2c1)C(...      3.765682   \n",
       "\n",
       "                                       original_mol  \\\n",
       "0  <rdkit.Chem.rdchem.Mol object at 0x7f16f469f7b0>   \n",
       "1  <rdkit.Chem.rdchem.Mol object at 0x7f16f469f820>   \n",
       "2  <rdkit.Chem.rdchem.Mol object at 0x7f16f469f890>   \n",
       "3  <rdkit.Chem.rdchem.Mol object at 0x7f16f469f900>   \n",
       "4  <rdkit.Chem.rdchem.Mol object at 0x7f16f469f970>   \n",
       "\n",
       "                                        decoded_mol  Tanimoto_Similarity  \n",
       "0  <rdkit.Chem.rdchem.Mol object at 0x7f16f43f4eb0>             0.410737  \n",
       "1  <rdkit.Chem.rdchem.Mol object at 0x7f16f43f4e40>             0.461944  \n",
       "2  <rdkit.Chem.rdchem.Mol object at 0x7f16f43f4dd0>             0.212732  \n",
       "3  <rdkit.Chem.rdchem.Mol object at 0x7f16f43f4d60>             0.491976  \n",
       "4  <rdkit.Chem.rdchem.Mol object at 0x7f16f43f4cf0>             0.361806  "
      ]
     },
     "execution_count": 321,
     "metadata": {},
     "output_type": "execute_result"
    }
   ],
   "source": [
    "# Function to calculate Tanimoto similarity\n",
    "def calculate_tanimoto(smiles1, smiles2):\n",
    "    mol1 = Chem.MolFromSmiles(smiles1)\n",
    "    mol2 = Chem.MolFromSmiles(smiles2)\n",
    "    fp1 = FingerprintMols.FingerprintMol(mol1)\n",
    "    fp2 = FingerprintMols.FingerprintMol(mol2)\n",
    "    return DataStructs.FingerprintSimilarity(fp1, fp2)\n",
    "\n",
    "# Apply the function to each row in the dataframe\n",
    "merged_df['Tanimoto_Similarity'] = merged_df.apply(lambda row: calculate_tanimoto(row['smiles'], row['Decoded_SMILES']), axis=1)\n",
    "merged_df.head()"
   ]
  },
  {
   "cell_type": "code",
   "execution_count": 322,
   "id": "bdcb0de3-b890-4ed2-913c-9a586cafea46",
   "metadata": {},
   "outputs": [],
   "source": [
    "merged_df.to_csv('decoded_smiles_lookup_protein_seq_ref_includes_structures_TANIMOTO.csv')"
   ]
  },
  {
   "cell_type": "code",
   "execution_count": 324,
   "id": "c5425bc9-9de9-4e36-90c4-6bc63886a156",
   "metadata": {},
   "outputs": [
    {
     "data": {
      "image/png": "[encoded data removed]",
      "text/plain": [
       "<Figure size 720x432 with 1 Axes>"
      ]
     },
     "metadata": {
      "needs_background": "light"
     },
     "output_type": "display_data"
    },
    {
     "data": {
      "image/png": "[encoded data removed]",
      "text/plain": [
       "<Figure size 720x432 with 1 Axes>"
      ]
     },
     "metadata": {
      "needs_background": "light"
     },
     "output_type": "display_data"
    }
   ],
   "source": [
    "import matplotlib.pyplot as plt\n",
    "import seaborn as sns\n",
    "\n",
    "# Scatter plot\n",
    "plt.figure(figsize=(10, 6))\n",
    "sns.scatterplot(data=merged_df, x='smiles', y='Tanimoto_Similarity')\n",
    "plt.title('Scatter Plot of Tanimoto Similarity')\n",
    "plt.xlabel('SMILES')\n",
    "plt.ylabel('Tanimoto Similarity')\n",
    "plt.show()\n",
    "\n",
    "# Box plot\n",
    "plt.figure(figsize=(10, 6))\n",
    "sns.boxplot(data=merged_df, x='Tanimoto_Similarity')\n",
    "plt.title('Box Plot of Tanimoto Similarity')\n",
    "plt.xlabel('Tanimoto Similarity')\n",
    "plt.show()"
   ]
  },
  {
   "cell_type": "code",
   "execution_count": null,
   "id": "5375c586-5d4f-44df-91b3-489887acf176",
   "metadata": {},
   "outputs": [],
   "source": []
  },
  {
   "cell_type": "markdown",
   "id": "a65293a1-f719-4e04-ab21-3756b50123a2",
   "metadata": {},
   "source": [
    "# custom lstm-decoder (levenstein distance)"
   ]
  },
  {
   "cell_type": "code",
   "execution_count": 197,
   "id": "f22dbf2e-ff84-4056-9c7d-4e1068fc277c",
   "metadata": {},
   "outputs": [],
   "source": [
    "import numpy as np\n",
    "import torch\n",
    "from torch.utils.data import DataLoader, TensorDataset"
   ]
  },
  {
   "cell_type": "code",
   "execution_count": 198,
   "id": "3224fa4b-8f1e-4d54-9202-7c690198e90d",
   "metadata": {},
   "outputs": [
    {
     "data": {
      "text/html": [
       "<div>\n",
       "<style scoped>\n",
       "    .dataframe tbody tr th:only-of-type {\n",
       "        vertical-align: middle;\n",
       "    }\n",
       "\n",
       "    .dataframe tbody tr th {\n",
       "        vertical-align: top;\n",
       "    }\n",
       "\n",
       "    .dataframe thead th {\n",
       "        text-align: right;\n",
       "    }\n",
       "</style>\n",
       "<table border=\"1\" class=\"dataframe\">\n",
       "  <thead>\n",
       "    <tr style=\"text-align: right;\">\n",
       "      <th></th>\n",
       "      <th>protein</th>\n",
       "      <th>smiles</th>\n",
       "      <th>processed_esm_emb</th>\n",
       "      <th>processed_unimol_emb</th>\n",
       "    </tr>\n",
       "  </thead>\n",
       "  <tbody>\n",
       "    <tr>\n",
       "      <th>0</th>\n",
       "      <td>MVMQFQGLENPIQISPHCSCTPSGFFMEMMSMKPAKGVLTEQVAGP...</td>\n",
       "      <td>Clc1cccc(Cl)c1-c1noc(C2CC2)c1CO[C@@H]1C[C@@H]2...</td>\n",
       "      <td>[tensor(0.0067), tensor(-0.0391), tensor(0.050...</td>\n",
       "      <td>[tensor(-0.1986), tensor(-0.0581), tensor(0.46...</td>\n",
       "    </tr>\n",
       "    <tr>\n",
       "      <th>1</th>\n",
       "      <td>MWNATPSEEPGFNLTLADLDWDASPGNDSLGDELLQLFPAPLLAGV...</td>\n",
       "      <td>COc1cccc(c1)-c1ccc(cc1)C(=O)N1CCN([C@@H](C)C1)...</td>\n",
       "      <td>[tensor(-0.0685), tensor(-0.0077), tensor(-0.0...</td>\n",
       "      <td>[tensor(-0.2780), tensor(-0.1134), tensor(-0.2...</td>\n",
       "    </tr>\n",
       "    <tr>\n",
       "      <th>2</th>\n",
       "      <td>MDGWRRMPRWGLLLLLWGSCTFGLPTDTTTFKRIFLKRMPSIRESL...</td>\n",
       "      <td>CC(C)CNC(=O)C(=C)C[C@H](O)[C@H](CC1CCCCC1)NC(=...</td>\n",
       "      <td>[tensor(0.0923), tensor(-0.0898), tensor(0.004...</td>\n",
       "      <td>[tensor(-0.1039), tensor(-0.7860), tensor(0.21...</td>\n",
       "    </tr>\n",
       "    <tr>\n",
       "      <th>3</th>\n",
       "      <td>MCNTNMSVPTDGAVTTSQIPASEQETLVRPKPLLLKLLKSVGAQKD...</td>\n",
       "      <td>CC(C)(C)S(=O)(=O)C[C@H](C1CC1)N1[C@@H]([C@H](C...</td>\n",
       "      <td>[tensor(0.0340), tensor(-0.0593), tensor(-0.00...</td>\n",
       "      <td>[tensor(-0.3172), tensor(-0.5562), tensor(0.26...</td>\n",
       "    </tr>\n",
       "    <tr>\n",
       "      <th>4</th>\n",
       "      <td>MAKQYDSVECPFCDEVSKYEKLAKIGQGTFGEVFKARHRKTGQKVA...</td>\n",
       "      <td>COc1ccc(F)cc1-c1ccnc2[nH]c(cc12)C1CCN(CCN2CCOC...</td>\n",
       "      <td>[tensor(0.0177), tensor(0.0355), tensor(0.0020...</td>\n",
       "      <td>[tensor(-0.2762), tensor(0.0102), tensor(0.008...</td>\n",
       "    </tr>\n",
       "    <tr>\n",
       "      <th>...</th>\n",
       "      <td>...</td>\n",
       "      <td>...</td>\n",
       "      <td>...</td>\n",
       "      <td>...</td>\n",
       "    </tr>\n",
       "    <tr>\n",
       "      <th>4995</th>\n",
       "      <td>MSANATLKPLCPILEQMSRLQSHSNTSIRYIDHAAVLLHGLASLLG...</td>\n",
       "      <td>OC(=O)Cc1sc(nc1-c1cccnc1)C(c1ccc(F)cc1)c1ccc(F...</td>\n",
       "      <td>[tensor(-0.0185), tensor(-0.0335), tensor(0.00...</td>\n",
       "      <td>[tensor(-0.4306), tensor(-0.7254), tensor(-0.0...</td>\n",
       "    </tr>\n",
       "    <tr>\n",
       "      <th>4996</th>\n",
       "      <td>MAAVILESIFLKRSQQKKKTSPLNFKKRLFLLTVHKLSYYEYDFER...</td>\n",
       "      <td>C[C@@H]1[C@@H](CCCN1c1cnc(C(N)=O)c(Nc2ccc(cc2)...</td>\n",
       "      <td>[tensor(0.0227), tensor(-0.0226), tensor(-0.06...</td>\n",
       "      <td>[tensor(-0.0597), tensor(-0.5574), tensor(0.11...</td>\n",
       "    </tr>\n",
       "    <tr>\n",
       "      <th>4997</th>\n",
       "      <td>MGAPACALALCVAVAIVAGASSESLGTEQRVVGRAAEVPGPEPGQQ...</td>\n",
       "      <td>COc1cc(C)cc2cc(sc12)-c1c(CN2CCCC(C2)C(N)=O)cn2...</td>\n",
       "      <td>[tensor(-0.0126), tensor(0.0058), tensor(-0.01...</td>\n",
       "      <td>[tensor(-0.3254), tensor(-0.5483), tensor(-0.0...</td>\n",
       "    </tr>\n",
       "    <tr>\n",
       "      <th>4998</th>\n",
       "      <td>MDPLNLSWYDDDLERQNWSRPFNGSDGKADRPHYNYYATLLTLLIA...</td>\n",
       "      <td>CN(C)C(=O)N[C@H]1CC[C@H](CCN2CCc3cccc(Cl)c3C2)CC1</td>\n",
       "      <td>[tensor(-0.0148), tensor(-0.0211), tensor(-0.0...</td>\n",
       "      <td>[tensor(-0.1672), tensor(-0.3015), tensor(-0.0...</td>\n",
       "    </tr>\n",
       "    <tr>\n",
       "      <th>4999</th>\n",
       "      <td>MIFLYQVVHFILFTSVSGECVTQLLKDTCFEGGDITTVFTPSAKYC...</td>\n",
       "      <td>CNC(=O)c1ccc(NC(=O)C(Cc2ccn(C)n2)n2cc(C)c(cc2=...</td>\n",
       "      <td>[tensor(-0.0185), tensor(-0.0302), tensor(0.00...</td>\n",
       "      <td>[tensor(-0.6448), tensor(-0.8626), tensor(-0.0...</td>\n",
       "    </tr>\n",
       "  </tbody>\n",
       "</table>\n",
       "<p>5000 rows × 4 columns</p>\n",
       "</div>"
      ],
      "text/plain": [
       "                                                protein  \\\n",
       "0     MVMQFQGLENPIQISPHCSCTPSGFFMEMMSMKPAKGVLTEQVAGP...   \n",
       "1     MWNATPSEEPGFNLTLADLDWDASPGNDSLGDELLQLFPAPLLAGV...   \n",
       "2     MDGWRRMPRWGLLLLLWGSCTFGLPTDTTTFKRIFLKRMPSIRESL...   \n",
       "3     MCNTNMSVPTDGAVTTSQIPASEQETLVRPKPLLLKLLKSVGAQKD...   \n",
       "4     MAKQYDSVECPFCDEVSKYEKLAKIGQGTFGEVFKARHRKTGQKVA...   \n",
       "...                                                 ...   \n",
       "4995  MSANATLKPLCPILEQMSRLQSHSNTSIRYIDHAAVLLHGLASLLG...   \n",
       "4996  MAAVILESIFLKRSQQKKKTSPLNFKKRLFLLTVHKLSYYEYDFER...   \n",
       "4997  MGAPACALALCVAVAIVAGASSESLGTEQRVVGRAAEVPGPEPGQQ...   \n",
       "4998  MDPLNLSWYDDDLERQNWSRPFNGSDGKADRPHYNYYATLLTLLIA...   \n",
       "4999  MIFLYQVVHFILFTSVSGECVTQLLKDTCFEGGDITTVFTPSAKYC...   \n",
       "\n",
       "                                                 smiles  \\\n",
       "0     Clc1cccc(Cl)c1-c1noc(C2CC2)c1CO[C@@H]1C[C@@H]2...   \n",
       "1     COc1cccc(c1)-c1ccc(cc1)C(=O)N1CCN([C@@H](C)C1)...   \n",
       "2     CC(C)CNC(=O)C(=C)C[C@H](O)[C@H](CC1CCCCC1)NC(=...   \n",
       "3     CC(C)(C)S(=O)(=O)C[C@H](C1CC1)N1[C@@H]([C@H](C...   \n",
       "4     COc1ccc(F)cc1-c1ccnc2[nH]c(cc12)C1CCN(CCN2CCOC...   \n",
       "...                                                 ...   \n",
       "4995  OC(=O)Cc1sc(nc1-c1cccnc1)C(c1ccc(F)cc1)c1ccc(F...   \n",
       "4996  C[C@@H]1[C@@H](CCCN1c1cnc(C(N)=O)c(Nc2ccc(cc2)...   \n",
       "4997  COc1cc(C)cc2cc(sc12)-c1c(CN2CCCC(C2)C(N)=O)cn2...   \n",
       "4998  CN(C)C(=O)N[C@H]1CC[C@H](CCN2CCc3cccc(Cl)c3C2)CC1   \n",
       "4999  CNC(=O)c1ccc(NC(=O)C(Cc2ccn(C)n2)n2cc(C)c(cc2=...   \n",
       "\n",
       "                                      processed_esm_emb  \\\n",
       "0     [tensor(0.0067), tensor(-0.0391), tensor(0.050...   \n",
       "1     [tensor(-0.0685), tensor(-0.0077), tensor(-0.0...   \n",
       "2     [tensor(0.0923), tensor(-0.0898), tensor(0.004...   \n",
       "3     [tensor(0.0340), tensor(-0.0593), tensor(-0.00...   \n",
       "4     [tensor(0.0177), tensor(0.0355), tensor(0.0020...   \n",
       "...                                                 ...   \n",
       "4995  [tensor(-0.0185), tensor(-0.0335), tensor(0.00...   \n",
       "4996  [tensor(0.0227), tensor(-0.0226), tensor(-0.06...   \n",
       "4997  [tensor(-0.0126), tensor(0.0058), tensor(-0.01...   \n",
       "4998  [tensor(-0.0148), tensor(-0.0211), tensor(-0.0...   \n",
       "4999  [tensor(-0.0185), tensor(-0.0302), tensor(0.00...   \n",
       "\n",
       "                                   processed_unimol_emb  \n",
       "0     [tensor(-0.1986), tensor(-0.0581), tensor(0.46...  \n",
       "1     [tensor(-0.2780), tensor(-0.1134), tensor(-0.2...  \n",
       "2     [tensor(-0.1039), tensor(-0.7860), tensor(0.21...  \n",
       "3     [tensor(-0.3172), tensor(-0.5562), tensor(0.26...  \n",
       "4     [tensor(-0.2762), tensor(0.0102), tensor(0.008...  \n",
       "...                                                 ...  \n",
       "4995  [tensor(-0.4306), tensor(-0.7254), tensor(-0.0...  \n",
       "4996  [tensor(-0.0597), tensor(-0.5574), tensor(0.11...  \n",
       "4997  [tensor(-0.3254), tensor(-0.5483), tensor(-0.0...  \n",
       "4998  [tensor(-0.1672), tensor(-0.3015), tensor(-0.0...  \n",
       "4999  [tensor(-0.6448), tensor(-0.8626), tensor(-0.0...  \n",
       "\n",
       "[5000 rows x 4 columns]"
      ]
     },
     "execution_count": 198,
     "metadata": {},
     "output_type": "execute_result"
    }
   ],
   "source": [
    "data"
   ]
  },
  {
   "cell_type": "code",
   "execution_count": 199,
   "id": "44e24379-709c-4c67-abb1-106d52f08b59",
   "metadata": {},
   "outputs": [],
   "source": [
    "embeddings = data['processed_unimol_emb'].tolist()\n",
    "smiles_strings = data['smiles'].tolist()"
   ]
  },
  {
   "cell_type": "code",
   "execution_count": 200,
   "id": "e55e76f0-97ed-4aa4-b1ae-06e6892687ee",
   "metadata": {},
   "outputs": [],
   "source": [
    "# Find the maximum length\n",
    "max_length = max(e.size(0) for e in embeddings)"
   ]
  },
  {
   "cell_type": "code",
   "execution_count": 201,
   "id": "d60fd248-7891-47c8-9d4b-088f2dab38e2",
   "metadata": {},
   "outputs": [],
   "source": [
    "import torch.nn.functional as F\n",
    "\n",
    "# Function to pad a tensor to a specific length\n",
    "def pad_tensor(tensor, length):\n",
    "    padding_size = length - tensor.size(0)\n",
    "    if padding_size > 0:\n",
    "        return F.pad(tensor, (0, 0, 0, padding_size))\n",
    "    return tensor\n",
    "\n",
    "# Pad each embedding\n",
    "padded_embeddings = [pad_tensor(e, max_length) for e in embeddings]\n",
    "embeddings_tensor = torch.stack(padded_embeddings)\n"
   ]
  },
  {
   "cell_type": "code",
   "execution_count": 202,
   "id": "aec61852-b55c-40f1-a850-483119df7312",
   "metadata": {},
   "outputs": [
    {
     "data": {
      "text/plain": [
       "torch.Size([5000, 512])"
      ]
     },
     "execution_count": 202,
     "metadata": {},
     "output_type": "execute_result"
    }
   ],
   "source": [
    "embeddings_tensor.shape"
   ]
  },
  {
   "cell_type": "code",
   "execution_count": 203,
   "id": "0fb11154-55cf-4241-b9c4-df7c04891497",
   "metadata": {},
   "outputs": [],
   "source": [
    "def build_vocab(smiles_list):\n",
    "    vocab = set()\n",
    "    for smiles in smiles_list:\n",
    "        vocab.update(set(smiles))\n",
    "    vocab = sorted(vocab)  # Sort for consistency\n",
    "    vocab_dict = {v: k for k, v in enumerate(vocab, start=1)}  # Start indexing from 1\n",
    "    vocab_dict['<PAD>'] = 0  # Add a padding token\n",
    "    return vocab_dict\n",
    "\n",
    "smiles_vocab = build_vocab(smiles_strings)\n",
    "vocab_size = len(smiles_vocab)\n"
   ]
  },
  {
   "cell_type": "code",
   "execution_count": 204,
   "id": "536d2182-ebaf-4541-80f2-c8b9cf44eb89",
   "metadata": {},
   "outputs": [],
   "source": [
    "### tokenize function\n",
    "def tokenize(smiles, vocab):\n",
    "    \"\"\"\n",
    "    Converts a SMILES string into a list of indices based on the given vocabulary.\n",
    "\n",
    "    Parameters:\n",
    "    smiles (str): A SMILES string.\n",
    "    vocab (dict): A dictionary mapping SMILES characters to indices.\n",
    "\n",
    "    Returns:\n",
    "    list: A list of indices representing the SMILES string.\n",
    "    \"\"\"\n",
    "    return [vocab[char] for char in smiles]\n"
   ]
  },
  {
   "cell_type": "code",
   "execution_count": 205,
   "id": "ba5c478b-17c2-40a2-86b7-8c1c756afc4c",
   "metadata": {},
   "outputs": [
    {
     "data": {
      "text/plain": [
       "[18, 2, 18, 2, 15, 24, 3, 24, 3, 30, 7, 30, 30, 30, 30, 30, 7]"
      ]
     },
     "execution_count": 205,
     "metadata": {},
     "output_type": "execute_result"
    }
   ],
   "source": [
    "sample_smiles = \"C(C(=O)O)c1ccccc1\"\n",
    "tokenized_smiles = tokenize(sample_smiles, smiles_vocab)\n",
    "tokenized_smiles"
   ]
  },
  {
   "cell_type": "code",
   "execution_count": 206,
   "id": "31dc4882-325d-4e9e-87d3-a9954d9950fb",
   "metadata": {},
   "outputs": [],
   "source": [
    "# Convert SMILES tokens to a tensor and pad sequences\n",
    "smiles_tokenized = [tokenize(smiles, smiles_vocab) for smiles in smiles_strings]\n",
    "max_length = max(len(t) for t in smiles_tokenized)\n",
    "padded_smiles = [t + [smiles_vocab['<PAD>']] * (max_length - len(t)) for t in smiles_tokenized]\n",
    "smiles_tensor = torch.tensor(padded_smiles, dtype=torch.long)\n",
    "\n",
    "# Create a dataset and DataLoader\n",
    "dataset = TensorDataset(embeddings_tensor, smiles_tensor)\n",
    "data_loader = DataLoader(dataset, batch_size=32, shuffle=True)\n"
   ]
  },
  {
   "cell_type": "code",
   "execution_count": 207,
   "id": "887f5534-7ae6-451f-8613-9cbb6d16db94",
   "metadata": {},
   "outputs": [
    {
     "data": {
      "text/plain": [
       "38"
      ]
     },
     "execution_count": 207,
     "metadata": {},
     "output_type": "execute_result"
    }
   ],
   "source": [
    "vocab_size"
   ]
  },
  {
   "cell_type": "code",
   "execution_count": 208,
   "id": "3502ba1d-d8d6-4173-a610-ac57a7dac726",
   "metadata": {},
   "outputs": [
    {
     "data": {
      "text/plain": [
       "{'#': 1,\n",
       " '(': 2,\n",
       " ')': 3,\n",
       " '+': 4,\n",
       " '-': 5,\n",
       " '/': 6,\n",
       " '1': 7,\n",
       " '2': 8,\n",
       " '3': 9,\n",
       " '4': 10,\n",
       " '5': 11,\n",
       " '6': 12,\n",
       " '7': 13,\n",
       " '8': 14,\n",
       " '=': 15,\n",
       " '@': 16,\n",
       " 'B': 17,\n",
       " 'C': 18,\n",
       " 'F': 19,\n",
       " 'H': 20,\n",
       " 'I': 21,\n",
       " 'L': 22,\n",
       " 'N': 23,\n",
       " 'O': 24,\n",
       " 'P': 25,\n",
       " 'S': 26,\n",
       " '[': 27,\n",
       " '\\\\': 28,\n",
       " ']': 29,\n",
       " 'c': 30,\n",
       " 'e': 31,\n",
       " 'i': 32,\n",
       " 'l': 33,\n",
       " 'n': 34,\n",
       " 'o': 35,\n",
       " 'r': 36,\n",
       " 's': 37,\n",
       " '<PAD>': 0}"
      ]
     },
     "execution_count": 208,
     "metadata": {},
     "output_type": "execute_result"
    }
   ],
   "source": [
    "smiles_vocab"
   ]
  },
  {
   "cell_type": "code",
   "execution_count": 209,
   "id": "dbb3ce05-503c-4895-9146-a704559a7ec4",
   "metadata": {},
   "outputs": [],
   "source": [
    "import torch\n",
    "import torch.nn as nn\n",
    "import torch.optim as optim"
   ]
  },
  {
   "cell_type": "code",
   "execution_count": 210,
   "id": "29bd47db-b968-42f6-87e4-d09716521cd0",
   "metadata": {},
   "outputs": [],
   "source": [
    "class LSTMDecoder(nn.Module):\n",
    "    def __init__(self, embedding_dim, hidden_dim, vocab_size, sequence_length):\n",
    "        super(LSTMDecoder, self).__init__()\n",
    "        self.lstm = nn.LSTM(embedding_dim, hidden_dim, batch_first=True)\n",
    "        self.fc = nn.Linear(hidden_dim, vocab_size)\n",
    "        self.sequence_length = sequence_length\n",
    "\n",
    "    def forward(self, embeddings, hidden=None):\n",
    "        # Repeat embeddings across the sequence length\n",
    "        repeated_embeddings = embeddings.unsqueeze(1).repeat(1, self.sequence_length, 1)\n",
    "        lstm_out, hidden = self.lstm(repeated_embeddings)\n",
    "        outputs = self.fc(lstm_out)\n",
    "        return outputs, hidden\n",
    "\n",
    "sequence_length = max_length  # This should match your expected SMILES length\n",
    "model = LSTMDecoder(embedding_dim=512, hidden_dim=256, vocab_size=40, sequence_length=sequence_length)\n"
   ]
  },
  {
   "cell_type": "code",
   "execution_count": 211,
   "id": "3a2a9f08-90d7-499a-b81d-f52c4ec92892",
   "metadata": {},
   "outputs": [],
   "source": [
    "# criterion = nn.CrossEntropyLoss()\n",
    "# optimizer = optim.Adam(model.parameters(), lr=0.001)\n",
    "\n",
    "# num_epochs = 10  # Set the number of epochs\n",
    "\n",
    "# output_list = []\n",
    "# embeddings_batch_list = []\n",
    "# smiles_batch_list = []\n",
    "\n",
    "# for epoch in range(num_epochs):\n",
    "#     model.train()\n",
    "#     total_loss = 0\n",
    "#     for embeddings_batch, smiles_batch in data_loader:\n",
    "#         embeddings_batch_list.append(embeddings_batch)\n",
    "#         optimizer.zero_grad()\n",
    "#         output, _ = model(embeddings_batch) # output shape: [32, 187, 40]\n",
    "#         output_list.append(output)\n",
    "#         output = output.transpose(1, 2)  # New shape: [32, 40, 187]\n",
    "#         smiles_batch_list.append(smiles_batch)\n",
    "#         loss = criterion(output, smiles_batch)\n",
    "#         loss.backward()\n",
    "#         optimizer.step()\n",
    "#         total_loss += loss.item()\n",
    "#     print(f'Epoch {epoch}, Loss: {total_loss / len(data_loader)}')\n"
   ]
  },
  {
   "cell_type": "code",
   "execution_count": 212,
   "id": "7d2b54aa-da79-448a-9576-48e39436d857",
   "metadata": {},
   "outputs": [],
   "source": [
    "import matplotlib.pyplot as plt\n",
    "import torch.nn as nn\n",
    "import torch.optim as optim\n",
    "\n",
    "# Assuming 'model' is your neural network model and 'data_loader' is your DataLoader\n",
    "criterion = nn.CrossEntropyLoss()\n",
    "optimizer = optim.Adam(model.parameters(), lr=0.001)\n",
    "\n",
    "num_epochs = 50  # Set the number of epochs\n",
    "\n",
    "losses = []  # List to store loss per epoch\n",
    "\n",
    "for epoch in range(num_epochs):\n",
    "    model.train()\n",
    "    total_loss = 0\n",
    "    for embeddings_batch, smiles_batch in data_loader:\n",
    "        optimizer.zero_grad()\n",
    "        output, _ = model(embeddings_batch)  # output shape: [32, 187, 40]\n",
    "        output = output.transpose(1, 2)  # New shape: [32, 40, 187]\n",
    "        loss = criterion(output, smiles_batch)\n",
    "        loss.backward()\n",
    "        optimizer.step()\n",
    "        total_loss += loss.item()\n",
    "    epoch_loss = total_loss / len(data_loader)\n",
    "    losses.append(epoch_loss)\n",
    "    print(f'Epoch {epoch}, Loss: {epoch_loss}')"
   ]
  },
  {
   "cell_type": "code",
   "execution_count": 213,
   "id": "33b860a6-77d1-463a-b979-f322e2ac8df4",
   "metadata": {},
   "outputs": [
    {
     "data": {
      "image/png": "[encoded data removed]",
      "text/plain": [
       "<Figure size 720x432 with 1 Axes>"
      ]
     },
     "metadata": {
      "needs_background": "light"
     },
     "output_type": "display_data"
    }
   ],
   "source": [
    "# Plotting the loss after the training loop\n",
    "plt.figure(figsize=(10, 6))\n",
    "plt.plot(losses, marker='o', linestyle='-')\n",
    "plt.title('Training Loss per Epoch')\n",
    "plt.xlabel('Epoch')\n",
    "plt.ylabel('Loss')\n",
    "plt.xticks(range(num_epochs), range(1, num_epochs + 1))\n",
    "plt.grid(True)\n",
    "plt.show()"
   ]
  },
  {
   "cell_type": "code",
   "execution_count": null,
   "id": "7156860a-caff-48b8-9164-deca4f10a9a7",
   "metadata": {},
   "outputs": [],
   "source": []
  },
  {
   "cell_type": "code",
   "execution_count": 214,
   "id": "2ebcbd36-a223-4dfa-8b44-7c89eafc61a5",
   "metadata": {},
   "outputs": [],
   "source": [
    "# output_list[0].shape"
   ]
  },
  {
   "cell_type": "code",
   "execution_count": 215,
   "id": "b2baeb66-6668-43ce-a9be-6b96f480bfeb",
   "metadata": {},
   "outputs": [],
   "source": [
    "# embeddings_batch_list[0].shape"
   ]
  },
  {
   "cell_type": "code",
   "execution_count": 216,
   "id": "c94ea492-f2db-482e-9419-e5b7631f1386",
   "metadata": {},
   "outputs": [],
   "source": [
    "# embeddings_batch_list[1].shape"
   ]
  },
  {
   "cell_type": "code",
   "execution_count": 217,
   "id": "7d5a2b46-968e-41b8-bfb2-2ffc0dffa8c1",
   "metadata": {},
   "outputs": [],
   "source": [
    "# smiles_batch_list[0].shape"
   ]
  },
  {
   "cell_type": "code",
   "execution_count": null,
   "id": "a1afeb2b-6167-4901-b837-cd928d66e3e2",
   "metadata": {},
   "outputs": [],
   "source": []
  },
  {
   "cell_type": "code",
   "execution_count": null,
   "id": "c994d504-ccf0-482d-9b3d-ddfa1f8fe86d",
   "metadata": {},
   "outputs": [],
   "source": []
  },
  {
   "cell_type": "code",
   "execution_count": 218,
   "id": "89d26493-9039-45ab-909a-dbd18f50b403",
   "metadata": {},
   "outputs": [
    {
     "data": {
      "text/plain": [
       "(512,)"
      ]
     },
     "execution_count": 218,
     "metadata": {},
     "output_type": "execute_result"
    }
   ],
   "source": [
    "ground_truth_embeddings[0].shape"
   ]
  },
  {
   "cell_type": "code",
   "execution_count": 219,
   "id": "acdb47a2-f14d-4b6c-b8bc-7a87e396b974",
   "metadata": {},
   "outputs": [],
   "source": [
    "smiles_max_length = max_length"
   ]
  },
  {
   "cell_type": "code",
   "execution_count": 220,
   "id": "4fc513c3-88a8-400a-a465-0531bdac45b9",
   "metadata": {},
   "outputs": [
    {
     "data": {
      "text/plain": [
       "device(type='cpu')"
      ]
     },
     "execution_count": 220,
     "metadata": {},
     "output_type": "execute_result"
    }
   ],
   "source": [
    "device"
   ]
  },
  {
   "cell_type": "code",
   "execution_count": 224,
   "id": "4f2efce3-45a9-4b8c-bec6-507b8a209aff",
   "metadata": {},
   "outputs": [],
   "source": [
    "test_embedding = ground_truth_embeddings[0]"
   ]
  },
  {
   "cell_type": "code",
   "execution_count": 225,
   "id": "7895b4c8-add0-4957-a1a5-4ee0085aee3d",
   "metadata": {},
   "outputs": [],
   "source": [
    "import torch\n",
    "\n",
    "# Convert the NumPy array to a PyTorch tensor\n",
    "test_embedding_tensor = torch.tensor(test_embedding, dtype=torch.float32)\n",
    "\n",
    "# If your model is running on a GPU, you need to move the tensor to the same device\n",
    "if torch.cuda.is_available():\n",
    "    test_embedding_tensor = test_embedding_tensor.to('cuda')"
   ]
  },
  {
   "cell_type": "code",
   "execution_count": 226,
   "id": "21dc8578-3a81-44b8-a855-4e8ea0aa044a",
   "metadata": {},
   "outputs": [
    {
     "data": {
      "text/plain": [
       "torch.Size([512])"
      ]
     },
     "execution_count": 226,
     "metadata": {},
     "output_type": "execute_result"
    }
   ],
   "source": [
    "test_embedding_tensor.shape"
   ]
  },
  {
   "cell_type": "code",
   "execution_count": 227,
   "id": "3c8b1026-3d49-4f0a-a68e-9b2d9a22aec0",
   "metadata": {},
   "outputs": [],
   "source": [
    "idx_to_smiles = {index: char for char, index in smiles_vocab.items()}"
   ]
  },
  {
   "cell_type": "markdown",
   "id": "0aeaaa30-d445-4808-b11b-95005b2b504c",
   "metadata": {},
   "source": [
    "## one sequence at once"
   ]
  },
  {
   "cell_type": "code",
   "execution_count": 228,
   "id": "4a8aba42-b347-4c77-b235-cfe429593958",
   "metadata": {},
   "outputs": [],
   "source": [
    "def decode_smiles(model, embedding, sequence_length, vocab_size):\n",
    "    # Ensure embedding is of shape [1, embedding_dim]\n",
    "    if embedding.dim() == 1:\n",
    "        embedding = embedding.unsqueeze(0)\n",
    "\n",
    "    # Process embedding through the model to get output of shape [1, sequence_length, vocab_size]\n",
    "    model_output, _ = model(embedding, sequence_length)  # Unpack the tuple\n",
    "\n",
    "    # Decoding the output to a SMILES string\n",
    "    smiles = \"\"\n",
    "    for i in range(sequence_length):\n",
    "        # Select the most probable character at each position\n",
    "        char_index = model_output[0, i, :].argmax()\n",
    "        char = idx_to_smiles[char_index.item()]  # Convert index to SMILES token\n",
    "        smiles += char\n",
    "\n",
    "    return smiles\n",
    "\n",
    "# Assuming test_embedding_tensor is your input embedding tensor\n",
    "# And assuming 'model' is your trained model\n",
    "smiles_string = decode_smiles(model, test_embedding_tensor, sequence_length, vocab_size)\n",
    "print(smiles_string)\n"
   ]
  },
  {
   "cell_type": "code",
   "execution_count": 229,
   "id": "8b5e080e-5f2b-4dcf-8226-8eeca067139b",
   "metadata": {},
   "outputs": [
    {
     "data": {
      "text/plain": [
       "'CCCCCCCCccccccccccccccccccccccccccccccccccccccccC<PAD><PAD><PAD><PAD><PAD><PAD><PAD><PAD><PAD><PAD><PAD><PAD><PAD><PAD><PAD><PAD><PAD><PAD><PAD><PAD><PAD><PAD><PAD><PAD><PAD><PAD><PAD><PAD><PAD><PAD><PAD><PAD><PAD><PAD><PAD><PAD><PAD><PAD><PAD><PAD><PAD><PAD><PAD><PAD><PAD><PAD><PAD><PAD><PAD><PAD><PAD><PAD><PAD><PAD><PAD><PAD><PAD><PAD><PAD><PAD><PAD><PAD><PAD><PAD><PAD><PAD><PAD><PAD><PAD><PAD><PAD><PAD><PAD><PAD><PAD><PAD><PAD><PAD><PAD><PAD><PAD><PAD><PAD><PAD><PAD><PAD><PAD><PAD><PAD><PAD><PAD><PAD><PAD><PAD><PAD><PAD><PAD><PAD><PAD><PAD><PAD><PAD><PAD><PAD><PAD><PAD><PAD><PAD><PAD><PAD><PAD><PAD><PAD><PAD><PAD><PAD><PAD><PAD><PAD><PAD><PAD><PAD><PAD><PAD><PAD><PAD><PAD><PAD><PAD><PAD>'"
      ]
     },
     "execution_count": 229,
     "metadata": {},
     "output_type": "execute_result"
    }
   ],
   "source": [
    "smiles_string"
   ]
  },
  {
   "cell_type": "code",
   "execution_count": 230,
   "id": "2a6574cf-b834-452f-96b9-e032775af614",
   "metadata": {},
   "outputs": [],
   "source": [
    "import pandas as pd\n",
    "import torch\n",
    "\n",
    "decoded_smiles = []\n",
    "\n",
    "for embedding in ground_truth_embeddings:\n",
    "    # Convert the embedding to a PyTorch tensor and decode it to a SMILES string\n",
    "    embedding_tensor = torch.tensor(embedding).to(device)  # Assuming 'embedding' is a numpy array or a list\n",
    "    smiles_string = decode_smiles(model, embedding_tensor, sequence_length, vocab_size)\n",
    "    decoded_smiles.append(smiles_string)\n",
    "\n",
    "df_decoded = pd.DataFrame(decoded_smiles, columns=['Decoded_SMILES'])\n"
   ]
  },
  {
   "cell_type": "code",
   "execution_count": 231,
   "id": "69374145-089f-4acc-9291-740d053c0d19",
   "metadata": {},
   "outputs": [
    {
     "data": {
      "text/plain": [
       "'Oc1ccccccccccccccccccccccccccccccccccccccccccccccccc<PAD><PAD><PAD><PAD><PAD><PAD><PAD><PAD><PAD><PAD><PAD><PAD><PAD><PAD><PAD><PAD><PAD><PAD><PAD><PAD><PAD><PAD><PAD><PAD><PAD><PAD><PAD><PAD><PAD><PAD><PAD><PAD><PAD><PAD><PAD><PAD><PAD><PAD><PAD><PAD><PAD><PAD><PAD><PAD><PAD><PAD><PAD><PAD><PAD><PAD><PAD><PAD><PAD><PAD><PAD><PAD><PAD><PAD><PAD><PAD><PAD><PAD><PAD><PAD><PAD><PAD><PAD><PAD><PAD><PAD><PAD><PAD><PAD><PAD><PAD><PAD><PAD><PAD><PAD><PAD><PAD><PAD><PAD><PAD><PAD><PAD><PAD><PAD><PAD><PAD><PAD><PAD><PAD><PAD><PAD><PAD><PAD><PAD><PAD><PAD><PAD><PAD><PAD><PAD><PAD><PAD><PAD><PAD><PAD><PAD><PAD><PAD><PAD><PAD><PAD><PAD><PAD><PAD><PAD><PAD><PAD><PAD><PAD><PAD><PAD><PAD><PAD>'"
      ]
     },
     "execution_count": 231,
     "metadata": {},
     "output_type": "execute_result"
    }
   ],
   "source": [
    "df_decoded['Decoded_SMILES'][748]"
   ]
  },
  {
   "cell_type": "code",
   "execution_count": 233,
   "id": "3b9bd8e4-5c85-4155-b236-b47e3910f47d",
   "metadata": {},
   "outputs": [],
   "source": [
    "df_decoded.to_csv('decoded_smiles_v1.csv')"
   ]
  },
  {
   "cell_type": "code",
   "execution_count": 310,
   "id": "a09b0870-c421-4153-8e5b-9ccdc2913d3c",
   "metadata": {},
   "outputs": [
    {
     "data": {
      "text/html": [
       "<div>\n",
       "<style scoped>\n",
       "    .dataframe tbody tr th:only-of-type {\n",
       "        vertical-align: middle;\n",
       "    }\n",
       "\n",
       "    .dataframe tbody tr th {\n",
       "        vertical-align: top;\n",
       "    }\n",
       "\n",
       "    .dataframe thead th {\n",
       "        text-align: right;\n",
       "    }\n",
       "</style>\n",
       "<table border=\"1\" class=\"dataframe\">\n",
       "  <thead>\n",
       "    <tr style=\"text-align: right;\">\n",
       "      <th></th>\n",
       "      <th>Decoded_SMILES</th>\n",
       "    </tr>\n",
       "  </thead>\n",
       "  <tbody>\n",
       "    <tr>\n",
       "      <th>0</th>\n",
       "      <td>CCCCCCCCcccccccccccccccccccccccccccccccccccccc...</td>\n",
       "    </tr>\n",
       "    <tr>\n",
       "      <th>1</th>\n",
       "      <td>Cc1ccccccccccccccccccccccccccccccccccccccccc&lt;P...</td>\n",
       "    </tr>\n",
       "    <tr>\n",
       "      <th>2</th>\n",
       "      <td>CC(Ccccccccccccccccccccccccccccccccccccccccccc...</td>\n",
       "    </tr>\n",
       "    <tr>\n",
       "      <th>3</th>\n",
       "      <td>CC(Ccc(ccccccccccccccccccccccccccccccccccccccc...</td>\n",
       "    </tr>\n",
       "    <tr>\n",
       "      <th>4</th>\n",
       "      <td>CC(==((cccccccccccccccccccccccccccccccccccccc&lt;...</td>\n",
       "    </tr>\n",
       "    <tr>\n",
       "      <th>...</th>\n",
       "      <td>...</td>\n",
       "    </tr>\n",
       "    <tr>\n",
       "      <th>745</th>\n",
       "      <td>CC(cccccccccccccccccccccccccccccccc&lt;PAD&gt;&lt;PAD&gt;&lt;...</td>\n",
       "    </tr>\n",
       "    <tr>\n",
       "      <th>746</th>\n",
       "      <td>FC(Fccccccccccccccccccc((((((((((((((((())))))...</td>\n",
       "    </tr>\n",
       "    <tr>\n",
       "      <th>747</th>\n",
       "      <td>CC(=cccccccccccccccccccccccccccccccc))))))))&lt;P...</td>\n",
       "    </tr>\n",
       "    <tr>\n",
       "      <th>748</th>\n",
       "      <td>Oc1ccccccccccccccccccccccccccccccccccccccccccc...</td>\n",
       "    </tr>\n",
       "    <tr>\n",
       "      <th>749</th>\n",
       "      <td>Cc1ccc(Ccccccccccccccccccccccccccccccccccccccc...</td>\n",
       "    </tr>\n",
       "  </tbody>\n",
       "</table>\n",
       "<p>750 rows × 1 columns</p>\n",
       "</div>"
      ],
      "text/plain": [
       "                                        Decoded_SMILES\n",
       "0    CCCCCCCCcccccccccccccccccccccccccccccccccccccc...\n",
       "1    Cc1ccccccccccccccccccccccccccccccccccccccccc<P...\n",
       "2    CC(Ccccccccccccccccccccccccccccccccccccccccccc...\n",
       "3    CC(Ccc(ccccccccccccccccccccccccccccccccccccccc...\n",
       "4    CC(==((cccccccccccccccccccccccccccccccccccccc<...\n",
       "..                                                 ...\n",
       "745  CC(cccccccccccccccccccccccccccccccc<PAD><PAD><...\n",
       "746  FC(Fccccccccccccccccccc((((((((((((((((())))))...\n",
       "747  CC(=cccccccccccccccccccccccccccccccc))))))))<P...\n",
       "748  Oc1ccccccccccccccccccccccccccccccccccccccccccc...\n",
       "749  Cc1ccc(Ccccccccccccccccccccccccccccccccccccccc...\n",
       "\n",
       "[750 rows x 1 columns]"
      ]
     },
     "execution_count": 310,
     "metadata": {},
     "output_type": "execute_result"
    }
   ],
   "source": [
    "df_decoded"
   ]
  }
 ],
 "metadata": {
  "kernelspec": {
   "display_name": "Python 3 (ipykernel)",
   "language": "python",
   "name": "python3"
  },
  "language_info": {
   "codemirror_mode": {
    "name": "ipython",
    "version": 3
   },
   "file_extension": ".py",
   "mimetype": "text/x-python",
   "name": "python",
   "nbconvert_exporter": "python",
   "pygments_lexer": "ipython3",
   "version": "3.9.12"
  }
 },
 "nbformat": 4,
 "nbformat_minor": 5
}
